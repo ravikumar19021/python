{
 "cells": [
  {
   "cell_type": "code",
   "execution_count": 1,
   "id": "1dba4f47-c1ce-4a94-8ece-b9e2ce6eec65",
   "metadata": {},
   "outputs": [
    {
     "name": "stdout",
     "output_type": "stream",
     "text": [
      "[ 70  90 110 130 150]\n",
      "[ 70  90 110 130 150]\n"
     ]
    }
   ],
   "source": [
    "import numpy as np\n",
    "#Arthmetic operations on 1-D arrays:\n",
    "#addition:\n",
    "\n",
    "arr1 = np.array([10,20,30,40,50])\n",
    "arr2 = np.array([60,70,80,90,100])\n",
    "print(arr1+arr2)\n",
    "print(np.add(arr1,arr2))"
   ]
  },
  {
   "cell_type": "code",
   "execution_count": 2,
   "id": "a4742a7f-e627-487e-9194-fe2c072e51ab",
   "metadata": {},
   "outputs": [
    {
     "name": "stdout",
     "output_type": "stream",
     "text": [
      "[-50 -50 -50 -50 -50]\n",
      "[-50 -50 -50 -50 -50]\n"
     ]
    }
   ],
   "source": [
    "#substraction:\n",
    "arr1 = np.array([10,20,30,40,50])\n",
    "arr2 = np.array([60,70,80,90,100])\n",
    "print(arr1-arr2)\n",
    "print(np.subtract(arr1,arr2))"
   ]
  },
  {
   "cell_type": "code",
   "execution_count": 3,
   "id": "3056dc16-b321-48b3-ae9d-3e4ef6535f43",
   "metadata": {},
   "outputs": [
    {
     "name": "stdout",
     "output_type": "stream",
     "text": [
      "[ 5 12 21 32]\n",
      "[ 5 12 21 32]\n"
     ]
    }
   ],
   "source": [
    "#multiplication:\n",
    "\n",
    "arr1 = np.array([1,2,3,4])\n",
    "arr2 = np.array([5,6,7,8])\n",
    "print(arr1*arr2)\n",
    "print(np.multiply(arr1,arr2))"
   ]
  },
  {
   "cell_type": "code",
   "execution_count": 5,
   "id": "456ea7d2-5157-491e-9dd0-e0da6107ee22",
   "metadata": {},
   "outputs": [
    {
     "name": "stdout",
     "output_type": "stream",
     "text": [
      "[0.2        0.33333333 0.42857143 0.5       ]\n",
      "[0.2        0.33333333 0.42857143 0.5       ]\n"
     ]
    }
   ],
   "source": [
    "#division:\n",
    "\n",
    "arr1 = np.array([1,2,3,4])\n",
    "arr2 = np.array([5,6,7,8])\n",
    "\n",
    "print(arr1/arr2)\n",
    "\n",
    "print(np.divide(arr1,arr2))"
   ]
  },
  {
   "cell_type": "code",
   "execution_count": 6,
   "id": "ebda5450-4a9a-43aa-bfa6-34d7c8d93a58",
   "metadata": {},
   "outputs": [
    {
     "name": "stdout",
     "output_type": "stream",
     "text": [
      "[1.         1.41421356 1.73205081 2.        ]\n",
      "[2.23606798 2.44948974 2.64575131 2.82842712]\n"
     ]
    }
   ],
   "source": [
    "# square root:\n",
    "\n",
    "arr1 = np.array([1,2,3,4])\n",
    "arr2 = np.array([5,6,7,8])\n",
    "print(np.sqrt(arr1))\n",
    "print(np.sqrt(arr2))"
   ]
  },
  {
   "cell_type": "code",
   "execution_count": 7,
   "id": "66af053a-c50d-48d3-b3d9-c3249359fbde",
   "metadata": {},
   "outputs": [
    {
     "name": "stdout",
     "output_type": "stream",
     "text": [
      "[0 0 0 0]\n",
      "[0 0 0 0]\n"
     ]
    }
   ],
   "source": [
    "#floor division: returns quotient \n",
    "arr1 = np.array([1,2,3,4])\n",
    "arr2 = np.array([5,6,7,8])\n",
    "\n",
    "print(arr1//arr2)\n",
    "\n",
    "print(np.floor_divide(arr1,arr2))"
   ]
  },
  {
   "cell_type": "code",
   "execution_count": 8,
   "id": "af36d24c-9372-4556-b36c-b92c9521a03c",
   "metadata": {},
   "outputs": [
    {
     "name": "stdout",
     "output_type": "stream",
     "text": [
      "[1 2 3 4]\n",
      "[1 2 3 4]\n"
     ]
    }
   ],
   "source": [
    "#modulus: returns reminder \n",
    "arr1 = np.array([1,2,3,4])\n",
    "arr2 = np.array([5,6,7,8])\n",
    "\n",
    "print(arr1%arr2)\n",
    "\n",
    "print(np.mod(arr1,arr2))"
   ]
  },
  {
   "cell_type": "code",
   "execution_count": 9,
   "id": "f4007290-e24d-47a1-876a-fbb3dd4371cc",
   "metadata": {},
   "outputs": [
    {
     "name": "stdout",
     "output_type": "stream",
     "text": [
      "[   1   32  243 1024]\n"
     ]
    }
   ],
   "source": [
    "#Exponential:\n",
    "\n",
    "arr1 = np.array([1,2,3,4])\n",
    "print(arr1**5)"
   ]
  },
  {
   "cell_type": "code",
   "execution_count": 10,
   "id": "3ffd578c-3567-4b1a-ab2d-d106716e46bc",
   "metadata": {},
   "outputs": [
    {
     "name": "stdout",
     "output_type": "stream",
     "text": [
      "[[ 20  31  42  53]\n",
      " [109 109 109 109]]\n",
      "[[ 20  31  42  53]\n",
      " [109 109 109 109]]\n"
     ]
    }
   ],
   "source": [
    "#Arthmetic operations on 2-D arrays:\n",
    "#addition\n",
    "arr1 = np.array([[1,2,3,4],[10,20,30,40]])\n",
    "arr2 = np.array([[19,29,39,49],[99,89,79,69]])\n",
    "print(arr1+arr2)\n",
    "print(np.add(arr1,arr2))"
   ]
  },
  {
   "cell_type": "code",
   "execution_count": 11,
   "id": "c9e756ac-c1c5-4d8d-85ea-ccf3f00a9c1e",
   "metadata": {},
   "outputs": [
    {
     "name": "stdout",
     "output_type": "stream",
     "text": [
      "[[-18 -27 -36 -45]\n",
      " [-89 -69 -49 -29]]\n",
      "[[-18 -27 -36 -45]\n",
      " [-89 -69 -49 -29]]\n"
     ]
    }
   ],
   "source": [
    "#subtaction:\n",
    "\n",
    "arr1 = np.array([[1,2,3,4],[10,20,30,40]])\n",
    "arr2 = np.array([[19,29,39,49],[99,89,79,69]])\n",
    "print(arr1-arr2)\n",
    "print(np.subtract(arr1,arr2))"
   ]
  },
  {
   "cell_type": "code",
   "execution_count": 12,
   "id": "be0a6778-2b39-43aa-88db-30e90fb9e1bc",
   "metadata": {},
   "outputs": [
    {
     "name": "stdout",
     "output_type": "stream",
     "text": [
      "[[  19   58  117  196]\n",
      " [ 990 1780 2370 2760]]\n",
      "[[  19   58  117  196]\n",
      " [ 990 1780 2370 2760]]\n"
     ]
    }
   ],
   "source": [
    "#multiplication:\n",
    "\n",
    "arr1 = np.array([[1,2,3,4],[10,20,30,40]])\n",
    "arr2 = np.array([[19,29,39,49],[99,89,79,69]])\n",
    "print(arr1*arr2)\n",
    "print(np.multiply(arr1,arr2))"
   ]
  },
  {
   "cell_type": "code",
   "execution_count": 13,
   "id": "7f0474fd-d452-41e8-94f0-8bc40b34789a",
   "metadata": {},
   "outputs": [
    {
     "name": "stdout",
     "output_type": "stream",
     "text": [
      "[[0.05263158 0.06896552 0.07692308 0.08163265]\n",
      " [0.1010101  0.2247191  0.37974684 0.57971014]]\n",
      "[[0.05263158 0.06896552 0.07692308 0.08163265]\n",
      " [0.1010101  0.2247191  0.37974684 0.57971014]]\n"
     ]
    }
   ],
   "source": [
    "#division:\n",
    "arr1 = np.array([[1,2,3,4],[10,20,30,40]])\n",
    "arr2 = np.array([[19,29,39,49],[99,89,79,69]])\n",
    "print(arr1/arr2)\n",
    "\n",
    "print(np.divide(arr1,arr2))"
   ]
  },
  {
   "cell_type": "code",
   "execution_count": 15,
   "id": "66922615-447c-4234-8226-5ded3771e8d7",
   "metadata": {},
   "outputs": [
    {
     "name": "stdout",
     "output_type": "stream",
     "text": [
      "[[0 0 0 0]\n",
      " [0 0 0 0]]\n",
      "[[0 0 0 0]\n",
      " [0 0 0 0]]\n"
     ]
    }
   ],
   "source": [
    "#floor division:\n",
    "arr1 = np.array([[1,2,3,4],[10,20,30,40]])\n",
    "arr2 = np.array([[19,29,39,49],[99,89,79,69]])\n",
    "print(arr1//arr2)\n",
    "\n",
    "print(np.floor_divide(arr1,arr2))"
   ]
  },
  {
   "cell_type": "code",
   "execution_count": 16,
   "id": "9fc42a02-27a3-4896-8d3c-f42faad40ee1",
   "metadata": {},
   "outputs": [
    {
     "name": "stdout",
     "output_type": "stream",
     "text": [
      "[[1.         1.41421356 1.73205081 2.        ]\n",
      " [3.16227766 4.47213595 5.47722558 6.32455532]]\n",
      "[[4.35889894 5.38516481 6.244998   7.        ]\n",
      " [9.94987437 9.43398113 8.88819442 8.30662386]]\n"
     ]
    }
   ],
   "source": [
    "# square root:\n",
    "\n",
    "arr1 = np.array([[1,2,3,4],[10,20,30,40]])\n",
    "arr2 = np.array([[19,29,39,49],[99,89,79,69]])\n",
    "print(np.sqrt(arr1))\n",
    "print(np.sqrt(arr2))"
   ]
  },
  {
   "cell_type": "code",
   "execution_count": 17,
   "id": "7bd2b269-731c-4497-80de-b59b93ea2433",
   "metadata": {},
   "outputs": [
    {
     "name": "stdout",
     "output_type": "stream",
     "text": [
      "[[ 1  2  3  4]\n",
      " [10 20 30 40]]\n",
      "[[ 1  2  3  4]\n",
      " [10 20 30 40]]\n"
     ]
    }
   ],
   "source": [
    "#modulus:\n",
    "\n",
    "arr1 = np.array([[1,2,3,4],[10,20,30,40]])\n",
    "arr2 = np.array([[19,29,39,49],[99,89,79,69]])\n",
    "print(arr1%arr2)\n",
    "\n",
    "print(np.mod(arr1,arr2))"
   ]
  },
  {
   "cell_type": "code",
   "execution_count": 19,
   "id": "675bad41-42e1-4e79-8b1b-e26ee830406a",
   "metadata": {},
   "outputs": [
    {
     "name": "stdout",
     "output_type": "stream",
     "text": [
      "[[        1        32       243      1024]\n",
      " [   100000   3200000  24300000 102400000]]\n",
      "[[    2476099    20511149    90224199   282475249]\n",
      " [  919965907  1289092153 -1217910897  1564031349]]\n"
     ]
    }
   ],
   "source": [
    "#Exponential:\n",
    "\n",
    "arr1 = np.array([[1,2,3,4],[10,20,30,40]])\n",
    "arr2 = np.array([[19,29,39,49],[99,89,79,69]])\n",
    "print(arr1**5)\n",
    "print(arr2**5)"
   ]
  },
  {
   "cell_type": "code",
   "execution_count": 20,
   "id": "c99b2857-06b4-428c-af05-dce81c04e0c8",
   "metadata": {},
   "outputs": [
    {
     "name": "stdout",
     "output_type": "stream",
     "text": [
      "[[[124 104  72 164  36]\n",
      "  [109 145  68 157  46]]\n",
      "\n",
      " [[123 157 141  46  86]\n",
      "  [123 123  57  69  38]]\n",
      "\n",
      " [[135 134  90  99  95]\n",
      "  [145 139  68 144 121]]]\n",
      "[[[124 104  72 164  36]\n",
      "  [109 145  68 157  46]]\n",
      "\n",
      " [[123 157 141  46  86]\n",
      "  [123 123  57  69  38]]\n",
      "\n",
      " [[135 134  90  99  95]\n",
      "  [145 139  68 144 121]]]\n"
     ]
    }
   ],
   "source": [
    "#Arthmetic operations on 3-D arrays:\n",
    "#addition\n",
    "arr1 = np.array([[[41,68,49,65,22],[64,78,45,90,23]],\n",
    "                 [[45,62,78,12,41],[56,89,34,56,23]],\n",
    "                 [[46,78,56,23,12],[89,67,34,54,65]]]\n",
    "                )\n",
    "arr2 = np.array([[[83,36,23,99,14],[45,67,23,67,23]],\n",
    "                 [[78,95,63,34,45],[67,34,23,13,15]],\n",
    "                 [[89,56,34,76,83],[56,72,34,90,56]]])\n",
    "print(arr1+arr2)\n",
    "print(np.add(arr1,arr2))"
   ]
  },
  {
   "cell_type": "code",
   "execution_count": 21,
   "id": "93adf920-c85e-41da-80be-cddea96e5ad0",
   "metadata": {},
   "outputs": [
    {
     "name": "stdout",
     "output_type": "stream",
     "text": [
      "[[[-42  32  26 -34   8]\n",
      "  [ 19  11  22  23   0]]\n",
      "\n",
      " [[-33 -33  15 -22  -4]\n",
      "  [-11  55  11  43   8]]\n",
      "\n",
      " [[-43  22  22 -53 -71]\n",
      "  [ 33  -5   0 -36   9]]]\n",
      "[[[-42  32  26 -34   8]\n",
      "  [ 19  11  22  23   0]]\n",
      "\n",
      " [[-33 -33  15 -22  -4]\n",
      "  [-11  55  11  43   8]]\n",
      "\n",
      " [[-43  22  22 -53 -71]\n",
      "  [ 33  -5   0 -36   9]]]\n"
     ]
    }
   ],
   "source": [
    "#subtaction:\n",
    "\n",
    "arr1 = np.array([[[41,68,49,65,22],[64,78,45,90,23]],\n",
    "                 [[45,62,78,12,41],[56,89,34,56,23]],\n",
    "                 [[46,78,56,23,12],[89,67,34,54,65]]]\n",
    "                )\n",
    "arr2 = np.array([[[83,36,23,99,14],[45,67,23,67,23]],\n",
    "                 [[78,95,63,34,45],[67,34,23,13,15]],\n",
    "                 [[89,56,34,76,83],[56,72,34,90,56]]])\n",
    "print(arr1-arr2)\n",
    "print(np.subtract(arr1,arr2))"
   ]
  },
  {
   "cell_type": "code",
   "execution_count": 22,
   "id": "a8f303fb-48f3-4b04-8309-a3e80729e24f",
   "metadata": {},
   "outputs": [
    {
     "name": "stdout",
     "output_type": "stream",
     "text": [
      "[[[3403 2448 1127 6435  308]\n",
      "  [2880 5226 1035 6030  529]]\n",
      "\n",
      " [[3510 5890 4914  408 1845]\n",
      "  [3752 3026  782  728  345]]\n",
      "\n",
      " [[4094 4368 1904 1748  996]\n",
      "  [4984 4824 1156 4860 3640]]]\n",
      "[[[3403 2448 1127 6435  308]\n",
      "  [2880 5226 1035 6030  529]]\n",
      "\n",
      " [[3510 5890 4914  408 1845]\n",
      "  [3752 3026  782  728  345]]\n",
      "\n",
      " [[4094 4368 1904 1748  996]\n",
      "  [4984 4824 1156 4860 3640]]]\n"
     ]
    }
   ],
   "source": [
    "#multiplication:\n",
    "\n",
    "arr1 = np.array([[[41,68,49,65,22],[64,78,45,90,23]],\n",
    "                 [[45,62,78,12,41],[56,89,34,56,23]],\n",
    "                 [[46,78,56,23,12],[89,67,34,54,65]]]\n",
    "                )\n",
    "arr2 = np.array([[[83,36,23,99,14],[45,67,23,67,23]],\n",
    "                 [[78,95,63,34,45],[67,34,23,13,15]],\n",
    "                 [[89,56,34,76,83],[56,72,34,90,56]]])\n",
    "print(arr1*arr2)\n",
    "print(np.multiply(arr1,arr2))"
   ]
  },
  {
   "cell_type": "code",
   "execution_count": 23,
   "id": "3169b798-0298-41d5-8d7a-07b74886445b",
   "metadata": {},
   "outputs": [
    {
     "name": "stdout",
     "output_type": "stream",
     "text": [
      "[[[0.4939759  1.88888889 2.13043478 0.65656566 1.57142857]\n",
      "  [1.42222222 1.1641791  1.95652174 1.34328358 1.        ]]\n",
      "\n",
      " [[0.57692308 0.65263158 1.23809524 0.35294118 0.91111111]\n",
      "  [0.8358209  2.61764706 1.47826087 4.30769231 1.53333333]]\n",
      "\n",
      " [[0.51685393 1.39285714 1.64705882 0.30263158 0.14457831]\n",
      "  [1.58928571 0.93055556 1.         0.6        1.16071429]]]\n",
      "[[[0.4939759  1.88888889 2.13043478 0.65656566 1.57142857]\n",
      "  [1.42222222 1.1641791  1.95652174 1.34328358 1.        ]]\n",
      "\n",
      " [[0.57692308 0.65263158 1.23809524 0.35294118 0.91111111]\n",
      "  [0.8358209  2.61764706 1.47826087 4.30769231 1.53333333]]\n",
      "\n",
      " [[0.51685393 1.39285714 1.64705882 0.30263158 0.14457831]\n",
      "  [1.58928571 0.93055556 1.         0.6        1.16071429]]]\n"
     ]
    }
   ],
   "source": [
    "#division:\n",
    "arr1 = np.array([[[41,68,49,65,22],[64,78,45,90,23]],\n",
    "                 [[45,62,78,12,41],[56,89,34,56,23]],\n",
    "                 [[46,78,56,23,12],[89,67,34,54,65]]]\n",
    "                )\n",
    "arr2 = np.array([[[83,36,23,99,14],[45,67,23,67,23]],\n",
    "                 [[78,95,63,34,45],[67,34,23,13,15]],\n",
    "                 [[89,56,34,76,83],[56,72,34,90,56]]])\n",
    "\n",
    "print(arr1/arr2)\n",
    "\n",
    "print(np.divide(arr1,arr2))"
   ]
  },
  {
   "cell_type": "code",
   "execution_count": 24,
   "id": "9ab92fdd-ee0e-4260-b248-33b9ea5ed9a6",
   "metadata": {},
   "outputs": [
    {
     "name": "stdout",
     "output_type": "stream",
     "text": [
      "[[[8.83176087 8.88819442 7.61577311]\n",
      "  [8.71779789 9.2736185  8.66025404]]\n",
      "\n",
      " [[6.78232998 5.74456265 4.69041576]\n",
      "  [9.43398113 8.71779789 9.32737905]]\n",
      "\n",
      " [[8.18535277 5.09901951 6.164414  ]\n",
      "  [9.79795897 5.91607978 5.91607978]]]\n",
      "[[[8.54400375 6.         4.89897949]\n",
      "  [8.         6.8556546  4.89897949]]\n",
      "\n",
      " [[9.38083152 9.74679434 8.06225775]\n",
      "  [5.09901951 4.89897949 7.93725393]]\n",
      "\n",
      " [[8.88819442 4.         6.55743852]\n",
      "  [7.41619849 4.69041576 5.83095189]]]\n",
      "[[[8.83176087 8.88819442 7.61577311]\n",
      "  [8.71779789 9.2736185  8.66025404]]\n",
      "\n",
      " [[6.78232998 5.74456265 4.69041576]\n",
      "  [9.43398113 8.71779789 9.32737905]]\n",
      "\n",
      " [[8.18535277 5.09901951 6.164414  ]\n",
      "  [9.79795897 5.91607978 5.91607978]]]\n",
      "[[[8.54400375 6.         4.89897949]\n",
      "  [8.         6.8556546  4.89897949]]\n",
      "\n",
      " [[9.38083152 9.74679434 8.06225775]\n",
      "  [5.09901951 4.89897949 7.93725393]]\n",
      "\n",
      " [[8.88819442 4.         6.55743852]\n",
      "  [7.41619849 4.69041576 5.83095189]]]\n"
     ]
    }
   ],
   "source": [
    "# square root:\n",
    "\n",
    "# square root:\n",
    "\n",
    "arr1 = np.array([[[78,79,58],[76,86,75]],\n",
    "                 [[46,33,22],[89,76,87]],\n",
    "                 [[67,26,38],[96,35,35]]]\n",
    "                )\n",
    "arr2 = np.array([[[73,36,24],[64,47,24]],\n",
    "                 [[88,95,65],[26,24,63]],\n",
    "                 [[79,16,43],[55,22,34]]])\n",
    "print(np.sqrt(arr1))\n",
    "print(np.sqrt(arr2))\n",
    "print(np.sqrt(arr1))\n",
    "print(np.sqrt(arr2))"
   ]
  },
  {
   "cell_type": "code",
   "execution_count": 25,
   "id": "06a22b62-0844-4918-998c-1580127ebfd1",
   "metadata": {},
   "outputs": [
    {
     "name": "stdout",
     "output_type": "stream",
     "text": [
      "[[[ 1  1 29]\n",
      "  [ 1  1  1]]\n",
      "\n",
      " [[ 0  0  3]\n",
      "  [ 1  1  2]]\n",
      "\n",
      " [[ 0  2  9]\n",
      "  [ 1  2  0]]]\n",
      "[[[ 1  1 29]\n",
      "  [ 1  1  1]]\n",
      "\n",
      " [[ 0  0  3]\n",
      "  [ 1  1  2]]\n",
      "\n",
      " [[ 0  2  9]\n",
      "  [ 1  2  0]]]\n",
      "[[[ 1  1 29]\n",
      "  [ 1  1  1]]\n",
      "\n",
      " [[ 0  0  3]\n",
      "  [ 1  1  2]]\n",
      "\n",
      " [[ 0  2  9]\n",
      "  [ 1  2  0]]]\n",
      "[[[ 4  3 29]\n",
      "  [ 3  3  2]]\n",
      "\n",
      " [[ 2  1 11]\n",
      "  [ 4  3  3]]\n",
      "\n",
      " [[ 3  1 19]\n",
      "  [ 4  2  1]]]\n",
      "[[[0 0 1]\n",
      "  [0 0 0]]\n",
      "\n",
      " [[0 0 0]\n",
      "  [0 0 0]]\n",
      "\n",
      " [[0 2 0]\n",
      "  [0 1 0]]]\n",
      "[[[ 1  1 29]\n",
      "  [ 1  1  1]]\n",
      "\n",
      " [[ 0  0  3]\n",
      "  [ 1  1  2]]\n",
      "\n",
      " [[ 0  2  9]\n",
      "  [ 1  2  0]]]\n"
     ]
    }
   ],
   "source": [
    "#floor division:\n",
    "#floor division:\n",
    "arr1 = np.array([[[8,7,58],[6,6,5]],\n",
    "                 [[4,3,22],[8,6,7]],\n",
    "                 [[6,2,38],[9,5,3]]]\n",
    "                )\n",
    "arr2 = np.array([[[7,6,2],[4,4,4]],\n",
    "                 [[8,5,6],[6,4,3]],\n",
    "                 [[7,1,4],[5,2,4]]])\n",
    "\n",
    "print(arr1//arr2)\n",
    "\n",
    "print(np.floor_divide(arr1,arr2))\n",
    "n =2\n",
    "print(arr1//arr2)\n",
    "print(arr1//n)\n",
    "print(n//arr2)\n",
    "print(np.floor_divide(arr1,arr2))"
   ]
  },
  {
   "cell_type": "code",
   "execution_count": 26,
   "id": "ed4e6b9f-69be-4a98-b5bb-d61fcc6411f6",
   "metadata": {},
   "outputs": [
    {
     "name": "stdout",
     "output_type": "stream",
     "text": [
      "[[[41 32  3 65  8]\n",
      "  [19 11 22 23  0]]\n",
      "\n",
      " [[45 62 15 12 41]\n",
      "  [56 21 11  4  8]]\n",
      "\n",
      " [[46 22 22 23 12]\n",
      "  [33 67  0 54  9]]]\n",
      "[[[41 32  3 65  8]\n",
      "  [19 11 22 23  0]]\n",
      "\n",
      " [[45 62 15 12 41]\n",
      "  [56 21 11  4  8]]\n",
      "\n",
      " [[46 22 22 23 12]\n",
      "  [33 67  0 54  9]]]\n"
     ]
    }
   ],
   "source": [
    "#modulus:\n",
    "arr1 = np.array([[[41,68,49,65,22],[64,78,45,90,23]],\n",
    "                 [[45,62,78,12,41],[56,89,34,56,23]],\n",
    "                 [[46,78,56,23,12],[89,67,34,54,65]]]\n",
    "                )\n",
    "arr2 = np.array([[[83,36,23,99,14],[45,67,23,67,23]],\n",
    "                 [[78,95,63,34,45],[67,34,23,13,15]],\n",
    "                 [[89,56,34,76,83],[56,72,34,90,56]]])\n",
    "\n",
    "print(arr1%arr2)\n",
    "\n",
    "\n",
    "print(np.mod(arr1,arr2))"
   ]
  },
  {
   "cell_type": "code",
   "execution_count": null,
   "id": "75d30a8b-c8df-4ace-8a1f-f8108e7be5a7",
   "metadata": {},
   "outputs": [],
   "source": []
  }
 ],
 "metadata": {
  "kernelspec": {
   "display_name": "Python 3 (ipykernel)",
   "language": "python",
   "name": "python3"
  },
  "language_info": {
   "codemirror_mode": {
    "name": "ipython",
    "version": 3
   },
   "file_extension": ".py",
   "mimetype": "text/x-python",
   "name": "python",
   "nbconvert_exporter": "python",
   "pygments_lexer": "ipython3",
   "version": "3.12.4"
  }
 },
 "nbformat": 4,
 "nbformat_minor": 5
}
