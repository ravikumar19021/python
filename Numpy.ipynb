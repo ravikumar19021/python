{
 "cells": [
  {
   "cell_type": "code",
   "execution_count": 1,
   "id": "cc782c80-b30c-4038-b633-d11758819167",
   "metadata": {},
   "outputs": [
    {
     "name": "stdout",
     "output_type": "stream",
     "text": [
      "Requirement already satisfied: numpy in c:\\users\\hp\\anaconda3\\lib\\site-packages (1.26.4)\n"
     ]
    }
   ],
   "source": [
    "!pip install numpy\n"
   ]
  },
  {
   "cell_type": "code",
   "execution_count": 37,
   "id": "ebd174ff-df9a-4482-a1a0-9976d21e7ecd",
   "metadata": {},
   "outputs": [
    {
     "name": "stdout",
     "output_type": "stream",
     "text": [
      "[1 2 3]\n",
      "[[1.5 2.  3. ]\n",
      " [4.  5.  6. ]]\n",
      "[[[1.5 2.  3. ]\n",
      "  [4.  5.  6. ]]\n",
      "\n",
      " [[3.  2.  1. ]\n",
      "  [4.  5.  6. ]]]\n"
     ]
    }
   ],
   "source": [
    "import numpy as np\n",
    "\n",
    "# creating a numpy:\n",
    "\n",
    "a=np.array([1,2,3]) #1d= rows \n",
    "b=np.array([(1.5,2,3), (4,5,6)], dtype = float) #2d= rows, colmns\n",
    "c=np.array([[(1.5,2,3), (4,5,6)],[(3,2,1), (4,5,6)]], dtype = float) #3d= shape, rows, colmns.\n",
    "\n",
    "print(a)\n",
    "\n",
    "print(b)\n",
    "\n",
    "print(c)"
   ]
  },
  {
   "cell_type": "code",
   "execution_count": 12,
   "id": "fd6d318a-5d58-4194-94fd-c91cc7269b05",
   "metadata": {},
   "outputs": [
    {
     "data": {
      "text/plain": [
       "array([0., 0., 0., 0., 0.])"
      ]
     },
     "execution_count": 12,
     "metadata": {},
     "output_type": "execute_result"
    }
   ],
   "source": [
    "# intial placeholders:\n",
    "# creating an array of zeros:\n",
    "\n",
    "np.zeros((5))#rows\n",
    "\n"
   ]
  },
  {
   "cell_type": "code",
   "execution_count": 7,
   "id": "af4da95d-1f11-415c-856e-ff8b6768cf69",
   "metadata": {},
   "outputs": [
    {
     "data": {
      "text/plain": [
       "array([[0., 0., 0., 0., 0., 0.],\n",
       "       [0., 0., 0., 0., 0., 0.],\n",
       "       [0., 0., 0., 0., 0., 0.],\n",
       "       [0., 0., 0., 0., 0., 0.],\n",
       "       [0., 0., 0., 0., 0., 0.]])"
      ]
     },
     "execution_count": 7,
     "metadata": {},
     "output_type": "execute_result"
    }
   ],
   "source": [
    "np.zeros((5,6))#rows,cols\n",
    "\n"
   ]
  },
  {
   "cell_type": "code",
   "execution_count": 9,
   "id": "240051a2-dddf-4c37-bbcf-fdfddf5bbeed",
   "metadata": {},
   "outputs": [
    {
     "data": {
      "text/plain": [
       "array([[[1., 1., 1., 1.],\n",
       "        [1., 1., 1., 1.],\n",
       "        [1., 1., 1., 1.]],\n",
       "\n",
       "       [[1., 1., 1., 1.],\n",
       "        [1., 1., 1., 1.],\n",
       "        [1., 1., 1., 1.]]])"
      ]
     },
     "execution_count": 9,
     "metadata": {},
     "output_type": "execute_result"
    }
   ],
   "source": [
    "# creating array of ones:\n",
    "\n",
    "np.ones((2,3,4))#shapes , rows, cols\n"
   ]
  },
  {
   "cell_type": "code",
   "execution_count": 20,
   "id": "21b72992-746f-4e8d-8004-00b8ad7a9d63",
   "metadata": {},
   "outputs": [
    {
     "name": "stdout",
     "output_type": "stream",
     "text": [
      "[ 7 10 13 16 19 22]\n"
     ]
    }
   ],
   "source": [
    "# creating array of evenly spaced values(step values):\n",
    "\n",
    "d=np.arange(7,25,3)\n",
    "print(d)"
   ]
  },
  {
   "cell_type": "code",
   "execution_count": 23,
   "id": "92d24533-8ba1-49c1-9ca1-3f10a7b7e6bd",
   "metadata": {},
   "outputs": [
    {
     "data": {
      "text/plain": [
       "array([ 0.  ,  1.25,  2.5 ,  3.75,  5.  ,  6.25,  7.5 ,  8.75, 10.  ])"
      ]
     },
     "execution_count": 23,
     "metadata": {},
     "output_type": "execute_result"
    }
   ],
   "source": [
    "# creating array of evenly spaced values:( number of values)\n",
    "\n",
    "np.linspace(0,10,9)\n"
   ]
  },
  {
   "cell_type": "code",
   "execution_count": 39,
   "id": "cd24b033-3b0b-47fe-b738-75a0cd8e24fa",
   "metadata": {},
   "outputs": [
    {
     "name": "stdout",
     "output_type": "stream",
     "text": [
      "[9 9 9 9 9 9 9 9 9 9 9 9]\n",
      "no of demension:  1\n"
     ]
    }
   ],
   "source": [
    "# creating a constant array:\n",
    "# creating 1d array:\n",
    "\n",
    "e=np.full((12),9)\n",
    "print(e)\n",
    "print(\"no of demension: \",e.ndim)"
   ]
  },
  {
   "cell_type": "code",
   "execution_count": 28,
   "id": "4ca23212-14cb-4273-ab89-504b43546ff0",
   "metadata": {},
   "outputs": [
    {
     "name": "stdout",
     "output_type": "stream",
     "text": [
      "[[45 45 45 45 45 45 45 45 45 45 45 45 45 45 45 45 45 45 45 45 45 45 45]\n",
      " [45 45 45 45 45 45 45 45 45 45 45 45 45 45 45 45 45 45 45 45 45 45 45]\n",
      " [45 45 45 45 45 45 45 45 45 45 45 45 45 45 45 45 45 45 45 45 45 45 45]\n",
      " [45 45 45 45 45 45 45 45 45 45 45 45 45 45 45 45 45 45 45 45 45 45 45]\n",
      " [45 45 45 45 45 45 45 45 45 45 45 45 45 45 45 45 45 45 45 45 45 45 45]\n",
      " [45 45 45 45 45 45 45 45 45 45 45 45 45 45 45 45 45 45 45 45 45 45 45]\n",
      " [45 45 45 45 45 45 45 45 45 45 45 45 45 45 45 45 45 45 45 45 45 45 45]\n",
      " [45 45 45 45 45 45 45 45 45 45 45 45 45 45 45 45 45 45 45 45 45 45 45]\n",
      " [45 45 45 45 45 45 45 45 45 45 45 45 45 45 45 45 45 45 45 45 45 45 45]\n",
      " [45 45 45 45 45 45 45 45 45 45 45 45 45 45 45 45 45 45 45 45 45 45 45]\n",
      " [45 45 45 45 45 45 45 45 45 45 45 45 45 45 45 45 45 45 45 45 45 45 45]\n",
      " [45 45 45 45 45 45 45 45 45 45 45 45 45 45 45 45 45 45 45 45 45 45 45]]\n",
      "no of demension:  2\n"
     ]
    }
   ],
   "source": [
    "# creting 2d array:\n",
    "\n",
    "e=np.full((12,23),45)\n",
    "print(e)\n",
    "print(\"no of demension: \",e.ndim)"
   ]
  },
  {
   "cell_type": "code",
   "execution_count": 27,
   "id": "34c78a10-8364-4575-b561-42ced47841bb",
   "metadata": {},
   "outputs": [
    {
     "name": "stdout",
     "output_type": "stream",
     "text": [
      "[[[78 78 78 ... 78 78 78]\n",
      "  [78 78 78 ... 78 78 78]\n",
      "  [78 78 78 ... 78 78 78]\n",
      "  ...\n",
      "  [78 78 78 ... 78 78 78]\n",
      "  [78 78 78 ... 78 78 78]\n",
      "  [78 78 78 ... 78 78 78]]\n",
      "\n",
      " [[78 78 78 ... 78 78 78]\n",
      "  [78 78 78 ... 78 78 78]\n",
      "  [78 78 78 ... 78 78 78]\n",
      "  ...\n",
      "  [78 78 78 ... 78 78 78]\n",
      "  [78 78 78 ... 78 78 78]\n",
      "  [78 78 78 ... 78 78 78]]\n",
      "\n",
      " [[78 78 78 ... 78 78 78]\n",
      "  [78 78 78 ... 78 78 78]\n",
      "  [78 78 78 ... 78 78 78]\n",
      "  ...\n",
      "  [78 78 78 ... 78 78 78]\n",
      "  [78 78 78 ... 78 78 78]\n",
      "  [78 78 78 ... 78 78 78]]\n",
      "\n",
      " ...\n",
      "\n",
      " [[78 78 78 ... 78 78 78]\n",
      "  [78 78 78 ... 78 78 78]\n",
      "  [78 78 78 ... 78 78 78]\n",
      "  ...\n",
      "  [78 78 78 ... 78 78 78]\n",
      "  [78 78 78 ... 78 78 78]\n",
      "  [78 78 78 ... 78 78 78]]\n",
      "\n",
      " [[78 78 78 ... 78 78 78]\n",
      "  [78 78 78 ... 78 78 78]\n",
      "  [78 78 78 ... 78 78 78]\n",
      "  ...\n",
      "  [78 78 78 ... 78 78 78]\n",
      "  [78 78 78 ... 78 78 78]\n",
      "  [78 78 78 ... 78 78 78]]\n",
      "\n",
      " [[78 78 78 ... 78 78 78]\n",
      "  [78 78 78 ... 78 78 78]\n",
      "  [78 78 78 ... 78 78 78]\n",
      "  ...\n",
      "  [78 78 78 ... 78 78 78]\n",
      "  [78 78 78 ... 78 78 78]\n",
      "  [78 78 78 ... 78 78 78]]]\n",
      "no of demension:  3\n"
     ]
    }
   ],
   "source": [
    "# creating 3d array:\n",
    "\n",
    "e=np.full((12,34,56),78)\n",
    "print(e)\n",
    "print(\"no of demension: \",e.ndim)"
   ]
  },
  {
   "cell_type": "code",
   "execution_count": 31,
   "id": "b6a26a28-aab8-40eb-b5d7-0a693fe31766",
   "metadata": {},
   "outputs": [
    {
     "name": "stdout",
     "output_type": "stream",
     "text": [
      "[[1. 0. 0. ... 0. 0. 0.]\n",
      " [0. 1. 0. ... 0. 0. 0.]\n",
      " [0. 0. 1. ... 0. 0. 0.]\n",
      " ...\n",
      " [0. 0. 0. ... 1. 0. 0.]\n",
      " [0. 0. 0. ... 0. 1. 0.]\n",
      " [0. 0. 0. ... 0. 0. 1.]]\n"
     ]
    }
   ],
   "source": [
    "# creating a indentity matrix:\n",
    "\n",
    "f=np.eye(123)\n",
    "print(f)\n"
   ]
  },
  {
   "cell_type": "code",
   "execution_count": 32,
   "id": "bcce677d-5dc1-4d14-9050-28a03163bd77",
   "metadata": {},
   "outputs": [
    {
     "data": {
      "text/plain": [
       "array([[0.69158639, 0.48928317, 0.65350222, ..., 0.94219233, 0.15571078,\n",
       "        0.48337245],\n",
       "       [0.48020242, 0.99406364, 0.3430644 , ..., 0.02322194, 0.93069551,\n",
       "        0.91812528],\n",
       "       [0.09962401, 0.08701847, 0.2854322 , ..., 0.77135499, 0.19337762,\n",
       "        0.71523426],\n",
       "       ...,\n",
       "       [0.86925527, 0.88855557, 0.46235204, ..., 0.57525278, 0.50217511,\n",
       "        0.09515801],\n",
       "       [0.2904032 , 0.79689665, 0.91651904, ..., 0.18416566, 0.02220551,\n",
       "        0.697395  ],\n",
       "       [0.78146104, 0.32821361, 0.50178973, ..., 0.82098705, 0.57157435,\n",
       "        0.44397774]])"
      ]
     },
     "execution_count": 32,
     "metadata": {},
     "output_type": "execute_result"
    }
   ],
   "source": [
    "# creating array with random values:\n",
    "\n",
    "np.random.random((123,456))\n"
   ]
  },
  {
   "cell_type": "code",
   "execution_count": 33,
   "id": "8c473f15-b657-4f1e-8931-0103008a894d",
   "metadata": {},
   "outputs": [
    {
     "data": {
      "text/plain": [
       "425"
      ]
     },
     "execution_count": 33,
     "metadata": {},
     "output_type": "execute_result"
    }
   ],
   "source": [
    "np.random.randint(123,456)\n"
   ]
  },
  {
   "cell_type": "code",
   "execution_count": 34,
   "id": "784ec2d1-5d50-4afd-9352-23b5d2386e22",
   "metadata": {},
   "outputs": [
    {
     "name": "stdout",
     "output_type": "stream",
     "text": [
      "(3, 4)\n"
     ]
    }
   ],
   "source": [
    "# to find the shape of array:\n",
    "\n",
    "arr=np.array([[10,20,30,40],\n",
    "              [12,23,34,45],\n",
    "              [11,22,33,44]])\n",
    "print(arr.shape)"
   ]
  },
  {
   "cell_type": "code",
   "execution_count": 35,
   "id": "31ad2528-bbaa-4886-82db-cf236ebfcd75",
   "metadata": {},
   "outputs": [
    {
     "name": "stdout",
     "output_type": "stream",
     "text": [
      "12\n"
     ]
    }
   ],
   "source": [
    "# to find the no. of elements in array:\n",
    "\n",
    "arr=np.array([[10,20,30,40],\n",
    "              [12,23,34,45],\n",
    "              [11,22,33,44]])\n",
    "print(arr.size)"
   ]
  },
  {
   "cell_type": "code",
   "execution_count": 36,
   "id": "682a758d-7683-4985-af61-64821d0745f9",
   "metadata": {},
   "outputs": [
    {
     "data": {
      "text/plain": [
       "3"
      ]
     },
     "execution_count": 36,
     "metadata": {},
     "output_type": "execute_result"
    }
   ],
   "source": [
    "# to find the length of array:\n",
    "\n",
    "arr=np.array([[10,20,30,40],\n",
    "              [12,23,34,45],\n",
    "              [11,22,33,44]])\n",
    "len(arr)"
   ]
  },
  {
   "cell_type": "code",
   "execution_count": null,
   "id": "bad0224c-6c6c-4ea9-a85a-afd5b2321323",
   "metadata": {},
   "outputs": [],
   "source": []
  }
 ],
 "metadata": {
  "kernelspec": {
   "display_name": "Python 3 (ipykernel)",
   "language": "python",
   "name": "python3"
  },
  "language_info": {
   "codemirror_mode": {
    "name": "ipython",
    "version": 3
   },
   "file_extension": ".py",
   "mimetype": "text/x-python",
   "name": "python",
   "nbconvert_exporter": "python",
   "pygments_lexer": "ipython3",
   "version": "3.12.4"
  }
 },
 "nbformat": 4,
 "nbformat_minor": 5
}
