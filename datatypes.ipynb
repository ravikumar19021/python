{
 "cells": [
  {
   "cell_type": "code",
   "execution_count": 1,
   "id": "9a600e61-efc8-4719-b1d1-58684f09985c",
   "metadata": {},
   "outputs": [
    {
     "name": "stdout",
     "output_type": "stream",
     "text": [
      "0 1 2 3 4 5 6 7 8 9\n"
     ]
    }
   ],
   "source": [
    "#integer data types:\n",
    "a=0\n",
    "b=1\n",
    "c=2\n",
    "d=3\n",
    "e=4\n",
    "f=5\n",
    "g=6\n",
    "h=7\n",
    "i=8\n",
    "j=9\n",
    "print(a,b,c,d,e,f,g,h,i,j)\n"
   ]
  },
  {
   "cell_type": "code",
   "execution_count": 9,
   "id": "294430cb-3ead-4919-8910-9f7ce197c14a",
   "metadata": {},
   "outputs": [
    {
     "name": "stdout",
     "output_type": "stream",
     "text": [
      "a\n",
      " b\n",
      " c\n",
      " d\n",
      " e\n",
      " f\n",
      " g\n",
      " h\n",
      " i\n",
      " j\n",
      "\n"
     ]
    }
   ],
   "source": [
    "#float data types:\n",
    "a=0.1\n",
    "b=1.9\n",
    "c=2.8\n",
    "d=3.7\n",
    "e=4.6\n",
    "f=5.5\n",
    "g=6.7\n",
    "h=7.8\n",
    "i=8.9\n",
    "j=9.0\n",
    "print(\"a\\n\", \"b\\n\", \"c\\n\", \"d\\n\", \"e\\n\", \"f\\n\", \"g\\n\", \"h\\n\", \"i\\n\", \"j\\n\")\n",
    "\n",
    "\n"
   ]
  },
  {
   "cell_type": "code",
   "execution_count": 18,
   "id": "26ad944c-6f63-4626-95fa-661e72c69bba",
   "metadata": {},
   "outputs": [
    {
     "name": "stdout",
     "output_type": "stream",
     "text": [
      "28.0 29.1 24.0 31.0 32.1 33.0 35.01 36.0 27.0\n"
     ]
    }
   ],
   "source": [
    "#complex data types\n",
    "a,b,c,d,e,f,j,g,h,i = 1+j, 2.1+j, -3+j, 4+j, 5.1+j, 6+j, 0.7+j, 8.01+j, 9+j, 0+j\n",
    "print(a,b,c,d,e,f,g,h,i)\n",
    "\n",
    "\n"
   ]
  },
  {
   "cell_type": "code",
   "execution_count": 26,
   "id": "9a60defb-95f0-4308-b458-d6b14afa6dde",
   "metadata": {},
   "outputs": [
    {
     "name": "stdout",
     "output_type": "stream",
     "text": [
      "-4.0 -3.0 -2.0 -1.0 0.0 1.0 2.0 3.0 4.0 5.0\n"
     ]
    }
   ],
   "source": [
    "#changing int to float:\n",
    "a,b,c,d,e,f,g,h,i,j = -4,-3,-2,-1,0,1,2,3,4,5\n",
    "a=float(a)\n",
    "b=float(b)\n",
    "c=float(c)\n",
    "d=float(d)\n",
    "e=float(e)\n",
    "f=float(f)\n",
    "g=float(g)\n",
    "h=float(h)\n",
    "i=float(i)\n",
    "j=float(j)\n",
    "print(a,b,c,d,e,f,g,h,i,j)\n",
    "\n"
   ]
  },
  {
   "cell_type": "code",
   "execution_count": null,
   "id": "e0db68c2-412b-44c0-bc3f-2727264e11a9",
   "metadata": {},
   "outputs": [],
   "source": [
    "\n"
   ]
  },
  {
   "cell_type": "code",
   "execution_count": 28,
   "id": "54b2a28e-cb57-4f25-85e8-0b157d79b511",
   "metadata": {},
   "outputs": [
    {
     "name": "stdout",
     "output_type": "stream",
     "text": [
      "-4 -3 -2 -1 0 1 2 3 4 5\n"
     ]
    }
   ],
   "source": [
    "#changing float to int:\n",
    "a,b,c,d,e,f,g,h,i,j = -4.0,-3.0,-2.0,-1.0,0.1, 1.23, 2.2, 3.3,4.4,5.5\n",
    "a=int(a)\n",
    "b=int(b)\n",
    "c=int(c)\n",
    "d=int(d)\n",
    "e=int(e)\n",
    "f=int(f)\n",
    "g=int(g)\n",
    "h=int(h)\n",
    "i=int(i)\n",
    "j=int(j)\n",
    "print(a,b,c,d,e,f,g,h,i,j)\n",
    "\n"
   ]
  },
  {
   "cell_type": "code",
   "execution_count": 31,
   "id": "50ec1136-85df-4a9f-8728-d77f35a7532a",
   "metadata": {},
   "outputs": [
    {
     "name": "stdout",
     "output_type": "stream",
     "text": [
      "0j (-1+0j) (1+0j) (2.2+0j) (5.4+0j) (798+0j) (-785.2+0j) (41+0j) (42.65+0j) (23.8+0j)\n"
     ]
    }
   ],
   "source": [
    "#int and float to complex:\n",
    "\n",
    "a,b,c,d,e,f,g,h,i,j = 0, -1, 1, 2.2, 5.4, 798, -785.2, 41, 42.65, 23.8\n",
    "a=complex(a)\n",
    "b=complex(b)\n",
    "c=complex(c)\n",
    "d=complex(d)\n",
    "e=complex(e)\n",
    "f=complex(f)\n",
    "g=complex(g)\n",
    "h=complex(h)\n",
    "i=complex(i)\n",
    "j=complex(j)\n",
    "print(a,b,c,d,e,f,g,h,i,j)\n"
   ]
  },
  {
   "cell_type": "code",
   "execution_count": 33,
   "id": "baeac327-dd4e-48e0-a351-65283fc931ea",
   "metadata": {},
   "outputs": [
    {
     "name": "stdout",
     "output_type": "stream",
     "text": [
      "False\n",
      "False\n",
      "False\n",
      "False\n",
      "True\n"
     ]
    }
   ],
   "source": [
    "#boolen :\n",
    "print(10<1)\n",
    "print(2>25)\n",
    "print(2==5)\n",
    "print(52>=589)\n",
    "print(789<=789)\n"
   ]
  },
  {
   "cell_type": "code",
   "execution_count": null,
   "id": "b23bb211-6bfa-489d-97e0-81d1862a2ebe",
   "metadata": {},
   "outputs": [],
   "source": []
  },
  {
   "cell_type": "code",
   "execution_count": null,
   "id": "c9f0af6e-047c-4086-9b09-1567336f2fe1",
   "metadata": {},
   "outputs": [],
   "source": []
  }
 ],
 "metadata": {
  "kernelspec": {
   "display_name": "Python 3 (ipykernel)",
   "language": "python",
   "name": "python3"
  },
  "language_info": {
   "codemirror_mode": {
    "name": "ipython",
    "version": 3
   },
   "file_extension": ".py",
   "mimetype": "text/x-python",
   "name": "python",
   "nbconvert_exporter": "python",
   "pygments_lexer": "ipython3",
   "version": "3.12.4"
  }
 },
 "nbformat": 4,
 "nbformat_minor": 5
}
