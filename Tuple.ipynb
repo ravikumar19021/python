{
 "cells": [
  {
   "cell_type": "code",
   "execution_count": 1,
   "id": "a6a8b60e-b4d1-444e-9443-e4317ad78b65",
   "metadata": {},
   "outputs": [
    {
     "name": "stdout",
     "output_type": "stream",
     "text": [
      "<class 'tuple'>\n",
      "('ravi', 'raju', 'rakesh', 'raghu')\n"
     ]
    }
   ],
   "source": [
    "#creating a tuple\n",
    "empty_tuple=()\n",
    "\n",
    "name=(\"ravi\", \"raju\", \"rakesh\",\"raghu\")\n",
    "print(type(name))\n",
    "print(name)"
   ]
  },
  {
   "cell_type": "code",
   "execution_count": 2,
   "id": "f2212c44-6911-4e08-a5cb-49b5c1f65080",
   "metadata": {},
   "outputs": [
    {
     "name": "stdout",
     "output_type": "stream",
     "text": [
      "rakesh\n",
      "('raju', 'rakesh')\n"
     ]
    }
   ],
   "source": [
    "#Accessing of tuples:\n",
    "\n",
    "name=(\"ravi\", \"raju\", \"rakesh\",\"raghu\")\n",
    "print(name[2])\n",
    "print(name[1:3])"
   ]
  },
  {
   "cell_type": "code",
   "execution_count": 3,
   "id": "67d94d40-c4a9-4b22-a461-2c0e136dce04",
   "metadata": {},
   "outputs": [
    {
     "ename": "TypeError",
     "evalue": "'tuple' object does not support item assignment",
     "output_type": "error",
     "traceback": [
      "\u001b[1;31m---------------------------------------------------------------------------\u001b[0m",
      "\u001b[1;31mTypeError\u001b[0m                                 Traceback (most recent call last)",
      "Cell \u001b[1;32mIn[3], line 4\u001b[0m\n\u001b[0;32m      1\u001b[0m \u001b[38;5;66;03m#Immutability\u001b[39;00m\n\u001b[0;32m      3\u001b[0m name\u001b[38;5;241m=\u001b[39m(\u001b[38;5;124m\"\u001b[39m\u001b[38;5;124mravi\u001b[39m\u001b[38;5;124m\"\u001b[39m, \u001b[38;5;124m\"\u001b[39m\u001b[38;5;124mraju\u001b[39m\u001b[38;5;124m\"\u001b[39m, \u001b[38;5;124m\"\u001b[39m\u001b[38;5;124mrakesh\u001b[39m\u001b[38;5;124m\"\u001b[39m,\u001b[38;5;124m\"\u001b[39m\u001b[38;5;124mraghu\u001b[39m\u001b[38;5;124m\"\u001b[39m)\n\u001b[1;32m----> 4\u001b[0m name [\u001b[38;5;241m2\u001b[39m]\u001b[38;5;241m=\u001b[39m\u001b[38;5;124m\"\u001b[39m\u001b[38;5;124mball\u001b[39m\u001b[38;5;124m\"\u001b[39m\n\u001b[0;32m      5\u001b[0m \u001b[38;5;28mprint\u001b[39m(name)\n",
      "\u001b[1;31mTypeError\u001b[0m: 'tuple' object does not support item assignment"
     ]
    }
   ],
   "source": [
    "#tuple is immutable data type:\n",
    "\n",
    "name=(\"ravi\", \"raju\", \"rakesh\",\"raghu\")\n",
    "name [2]=\"ball\"\n",
    "print(name)"
   ]
  },
  {
   "cell_type": "code",
   "execution_count": 14,
   "id": "33d56181-30e3-4d84-a29c-117bbc426f5b",
   "metadata": {},
   "outputs": [
    {
     "name": "stdout",
     "output_type": "stream",
     "text": [
      "(1, 2, 3, 'a', 'b', 'c')\n"
     ]
    }
   ],
   "source": [
    "#Tuple operations:\n",
    "# Concatenation:\n",
    "tuple1 = (1, 2, 3)\n",
    "tuple2 = ('a', 'b', 'c')\n",
    "\n",
    "result = tuple1 + tuple2\n",
    "\n",
    "print(result)\n"
   ]
  },
  {
   "cell_type": "code",
   "execution_count": 24,
   "id": "8a43f8e7-26ba-49d3-9167-bc0c00b42257",
   "metadata": {},
   "outputs": [
    {
     "name": "stdout",
     "output_type": "stream",
     "text": [
      "hello, world! \n",
      "hello, world! \n",
      "hello, world! \n",
      "hello, world! \n",
      "hello, world! \n",
      "hello, world! \n",
      "hello, world! \n",
      "hello, world! \n",
      "hello, world! \n",
      "hello, world! \n",
      "\n"
     ]
    }
   ],
   "source": [
    "#repetation:\n",
    "a=(\"hello, world! \\n\")\n",
    "b= a*10\n",
    "print(b)"
   ]
  },
  {
   "cell_type": "code",
   "execution_count": 25,
   "id": "e75758d5-caf6-4191-8b3b-748280b79305",
   "metadata": {},
   "outputs": [
    {
     "data": {
      "text/plain": [
       "5"
      ]
     },
     "execution_count": 25,
     "metadata": {},
     "output_type": "execute_result"
    }
   ],
   "source": [
    "#Tuple methods:\n",
    "#count():\n",
    "numbers=(1,2,2,3,4,2,7,8,2,9,2)\n",
    "a=numbers.count(2)\n",
    "a\n",
    "\n"
   ]
  },
  {
   "cell_type": "code",
   "execution_count": 26,
   "id": "f634580f-0425-4c4c-82aa-f55f5dc4e33f",
   "metadata": {},
   "outputs": [
    {
     "data": {
      "text/plain": [
       "2"
      ]
     },
     "execution_count": 26,
     "metadata": {},
     "output_type": "execute_result"
    }
   ],
   "source": [
    "#index():\n",
    "\n",
    "numbers=(1,2,12,3,412,17,58,32,9,12)\n",
    "b=numbers.index(12)\n",
    "b\n"
   ]
  },
  {
   "cell_type": "code",
   "execution_count": null,
   "id": "bb01672f-42be-4675-ac11-4b3c657de9c1",
   "metadata": {},
   "outputs": [],
   "source": []
  }
 ],
 "metadata": {
  "kernelspec": {
   "display_name": "Python 3 (ipykernel)",
   "language": "python",
   "name": "python3"
  },
  "language_info": {
   "codemirror_mode": {
    "name": "ipython",
    "version": 3
   },
   "file_extension": ".py",
   "mimetype": "text/x-python",
   "name": "python",
   "nbconvert_exporter": "python",
   "pygments_lexer": "ipython3",
   "version": "3.12.4"
  }
 },
 "nbformat": 4,
 "nbformat_minor": 5
}
