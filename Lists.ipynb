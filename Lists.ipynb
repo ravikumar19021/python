{
 "cells": [
  {
   "cell_type": "code",
   "execution_count": 9,
   "id": "2feab70e-760a-4d76-94ec-2c1230952b02",
   "metadata": {},
   "outputs": [
    {
     "name": "stdout",
     "output_type": "stream",
     "text": [
      "<class 'list'>\n",
      "<class 'list'>\n",
      "<class 'list'>\n"
     ]
    }
   ],
   "source": [
    "#Advanced datatypes:\n",
    "\n",
    "#Lists:\n",
    "\n",
    "#creating empty list:\n",
    "my_list=[]\n",
    "\n",
    "#creating list with elements:\n",
    "numbers=[0,1,2,3,4,5]\n",
    "names=[\"c\", \"c++\", \"java\", \"python\"]\n",
    "mixed_types=[0,1.2, \"java\", True]\n",
    "\n",
    "print(type(numbers))\n",
    "print(type(names))\n",
    "print(type(mixed_types))\n"
   ]
  },
  {
   "cell_type": "code",
   "execution_count": 15,
   "id": "f5fb10e6-158f-4e10-b1e0-257f4e04a99f",
   "metadata": {},
   "outputs": [
    {
     "name": "stdout",
     "output_type": "stream",
     "text": [
      "hp\n",
      "asus\n",
      "asus\n",
      "mac\n"
     ]
    }
   ],
   "source": [
    "#Access the list elements:\n",
    "\n",
    "computers=[\"hp\", \"dell\", \"lenovo\", \"mac\", \"msi\", \"asus\"]\n",
    "\n",
    "print(computers[0]) #starts from \"0\" \n",
    "print(computers[5]) #starst from \"0\" \n",
    "print(computers[-1]) #starts from \"-1\"\n",
    "print(computers[-3])\n"
   ]
  },
  {
   "cell_type": "code",
   "execution_count": 27,
   "id": "2562ceeb-5b19-4540-a2d9-be4c48ea39c9",
   "metadata": {},
   "outputs": [
    {
     "name": "stdout",
     "output_type": "stream",
     "text": [
      "['c', 'd', 'e', 'f', 'g']\n",
      "['d', 'e', 'f', 'g', 'h']\n",
      "['a', 'b', 'c', 'd', 'e', 'f', 'g']\n",
      "['c', 'd', 'e', 'f', 'g', 'h', 'i', 'j']\n",
      "['a', 'b', 'c', 'd', 'e', 'f', 'g', 'h']\n",
      "['d', 'e', 'f', 'g', 'h', 'i', 'j']\n"
     ]
    }
   ],
   "source": [
    "#slicing of a list:\n",
    "#list slicing:\n",
    "list=['a','b','c','d','e','f','g','h','i','j']\n",
    "\n",
    "#items from 2 to 7\n",
    "print(list[2:7])# strarts from '0' and ends with n-1\n",
    "\n",
    "#items from -7 to -2\n",
    "print(list[-7:-2]) #starts from '-1'\n",
    "\n",
    "print(list[:7])\n",
    "\n",
    "print(list[2:])\n",
    "\n",
    "print(list[:-2])\n",
    "\n",
    "print(list[-7:])\n"
   ]
  },
  {
   "cell_type": "code",
   "execution_count": 29,
   "id": "60f092d0-409e-451c-ad25-6673e51460db",
   "metadata": {},
   "outputs": [
    {
     "name": "stdout",
     "output_type": "stream",
     "text": [
      "[10, 20, 30, 1, 2, 3]\n",
      "['mac', 'windows', 'hp', 'asus', 'msi', 'mac']\n"
     ]
    }
   ],
   "source": [
    "#list operations:\n",
    "#concatetation:\n",
    "a=[1,2,3]\n",
    "b=[10,20,30]\n",
    "c=b+a\n",
    "print(c)\n",
    "\n",
    "name1=['mac','windows']\n",
    "name2=['hp','asus', 'msi','mac']\n",
    "computers= name1+name2\n",
    "print(computers)\n",
    "\n"
   ]
  },
  {
   "cell_type": "code",
   "execution_count": 33,
   "id": "d886244b-7057-4aa8-987e-66092b66d738",
   "metadata": {},
   "outputs": [
    {
     "name": "stdout",
     "output_type": "stream",
     "text": [
      "[1, 2, 3, 4, 1, 2, 3, 4, 1, 2, 3, 4, 1, 2, 3, 4, 1, 2, 3, 4]\n",
      "['intel', 'amd', 'm1', 'm2', 'm3', 'intel', 'amd', 'm1', 'm2', 'm3', 'intel', 'amd', 'm1', 'm2', 'm3', 'intel', 'amd', 'm1', 'm2', 'm3', 'intel', 'amd', 'm1', 'm2', 'm3']\n"
     ]
    }
   ],
   "source": [
    "#repetations:\n",
    "a=[1,2,3,4]\n",
    "b= a*5\n",
    "print(b)\n",
    "\n",
    "cores=['intel', 'amd', 'm1','m2','m3']\n",
    "name=cores*5\n",
    "print(name)\n",
    "\n"
   ]
  },
  {
   "cell_type": "code",
   "execution_count": 39,
   "id": "184dc26c-0175-4c7c-a96d-3072538fd518",
   "metadata": {},
   "outputs": [
    {
     "name": "stdout",
     "output_type": "stream",
     "text": [
      "['m1', 'm2', 'm3']\n",
      "['intel', 'm2', 'm3']\n",
      "['intel', 'm2', 'intelEvo']\n"
     ]
    }
   ],
   "source": [
    "#change list items:\n",
    "mac=['m1','m2','m3']\n",
    "print(mac)\n",
    "\n",
    "mac[0]=\"intel\"\n",
    "print(mac)\n",
    "\n",
    "mac[-1]= \"intelEvo\"\n",
    "print(mac)"
   ]
  },
  {
   "cell_type": "code",
   "execution_count": 46,
   "id": "d6988d57-832a-49a2-a525-9d16751e9762",
   "metadata": {},
   "outputs": [
    {
     "name": "stdout",
     "output_type": "stream",
     "text": [
      "['apple', 'banana', '5star', 'dairymilk', 'kitkat', 'mango', 'orange', 'kiwi', 'plum']\n",
      "[2, 'mac', 'windows', 'linux', 'microsoft', 10, 12, 14]\n"
     ]
    }
   ],
   "source": [
    "#change range of item values:\n",
    "fruits=[\"apple\", \"banana\", \"cherry\",\"dates\", \"grape\",\"mango\", \"orange\",\"kiwi\",\"plum\"]\n",
    "fruits[2:5]=[\"5star\", \"dairymilk\", \"kitkat\"]\n",
    "print(fruits)\n",
    "\n",
    "list=[2,4,6,8,10,12,14]\n",
    "list[1:4]=['mac','windows', 'linux', 'microsoft']\n",
    "print(list)\n",
    "\n"
   ]
  },
  {
   "cell_type": "markdown",
   "id": "bcca40b0-6ec7-4663-a3ac-3cc2ac55763e",
   "metadata": {},
   "source": []
  },
  {
   "cell_type": "code",
   "execution_count": 48,
   "id": "7327b61b-c182-4243-8849-7ac2e9de4f61",
   "metadata": {},
   "outputs": [
    {
     "name": "stdout",
     "output_type": "stream",
     "text": [
      "[1, 2, 3, 100]\n",
      "['apple', 'kiwi', 'windows']\n"
     ]
    }
   ],
   "source": [
    "#list methods:\n",
    "#append():\n",
    "numbers= [1,2,3]\n",
    "numbers.append(100)\n",
    "print(numbers)\n",
    "\n",
    "names=[\"apple\", \"kiwi\"]\n",
    "names.append(\"windows\")\n",
    "print(names)\n"
   ]
  },
  {
   "cell_type": "code",
   "execution_count": 51,
   "id": "923cff09-1ebc-4106-bfc5-5e9aa071f30a",
   "metadata": {},
   "outputs": [
    {
     "name": "stdout",
     "output_type": "stream",
     "text": [
      "[1, 2, 3, 4, 100, 200, 300, 400]\n",
      "['mac', 'windows', 'Linux', 'intel', 'M1', 'Ryzen']\n"
     ]
    }
   ],
   "source": [
    "#extend():\n",
    "numbers=[1,2,3,4]\n",
    "more_numbers=[100,200,300,400]\n",
    "numbers.extend(more_numbers)\n",
    "print(numbers)\n",
    "\n",
    "computers=[\"mac\",\"windows\",\"Linux\"]\n",
    "processer=[\"intel\", \"M1\", \"Ryzen\"]\n",
    "computers.extend(processer)\n",
    "print(computers)\n"
   ]
  },
  {
   "cell_type": "code",
   "execution_count": 58,
   "id": "0a055abb-bd57-4a1e-ae07-05d12cbcf2e0",
   "metadata": {},
   "outputs": [
    {
     "name": "stdout",
     "output_type": "stream",
     "text": [
      "[1, 20, 40, 2, 3, 60, 4]\n",
      "[-100, 10, 20, 30, 40]\n"
     ]
    }
   ],
   "source": [
    "#insert():\n",
    "numbers=[1,2,3,4]\n",
    "numbers.insert(1,20)\n",
    "numbers.insert(2,40)\n",
    "numbers.insert(-1,60)\n",
    "print(numbers)\n",
    "\n",
    "name=[10,20,30,40]\n",
    "name.insert(-788, -100)\n",
    "print(name)\n"
   ]
  },
  {
   "cell_type": "code",
   "execution_count": 66,
   "id": "f832169b-e69f-427e-b930-fc573072063d",
   "metadata": {},
   "outputs": [
    {
     "name": "stdout",
     "output_type": "stream",
     "text": [
      "[1, 2, 4, 6, 8]\n",
      "['apple', 'cherry', 'kiwi']\n"
     ]
    }
   ],
   "source": [
    "#remove():\n",
    "numbers=[1,2,4,6,8,10]\n",
    "numbers.remove(10)\n",
    "print(numbers)\n",
    "\n",
    "name1=['apple', 'cherry','kiwi','mac']\n",
    "name1.remove('mac')\n",
    "print(name1)\n",
    "\n"
   ]
  },
  {
   "cell_type": "code",
   "execution_count": 72,
   "id": "2da7ee8d-c0ea-4cae-a7bc-b81c85a36ea1",
   "metadata": {},
   "outputs": [
    {
     "name": "stdout",
     "output_type": "stream",
     "text": [
      "[1, 2, 4, 6, 8]\n",
      "10\n",
      "['apple', 'cherry', 'kiwi']\n",
      "lemon\n"
     ]
    }
   ],
   "source": [
    "#pop():\n",
    "numbers=[1,2,4,6,8,10]\n",
    "popped_element = numbers.pop()\n",
    "print(numbers)\n",
    "print(popped_element)\n",
    "\n",
    "\n",
    "names=[\"apple\",\"cherry\",\"kiwi\",\"lemon\"]\n",
    "popped_element= names.pop()\n",
    "print(names)\n",
    "print(popped_element)\n",
    "\n"
   ]
  },
  {
   "cell_type": "code",
   "execution_count": 75,
   "id": "1808044c-980d-4f26-826c-9fa16cdb74fc",
   "metadata": {},
   "outputs": [
    {
     "name": "stdout",
     "output_type": "stream",
     "text": [
      "0\n",
      "2\n"
     ]
    }
   ],
   "source": [
    "#index():\n",
    "numbers=[10,20,30,40,50]\n",
    "numbers_index = numbers.index(10)\n",
    "print(numbers_index)\n",
    "\n",
    "name=[\"apple\", \"windows\", \"Linux\", \"microsoft\"]\n",
    "name_index = name.index(\"Linux\")\n",
    "print(name_index)\n",
    "\n"
   ]
  },
  {
   "cell_type": "code",
   "execution_count": 77,
   "id": "2734074c-2c9a-42d8-9f5c-7df8bc503d23",
   "metadata": {},
   "outputs": [
    {
     "name": "stdout",
     "output_type": "stream",
     "text": [
      "3\n",
      "2\n"
     ]
    }
   ],
   "source": [
    "#count():\n",
    "num=[1,2,4,1,8,1,70]\n",
    "count = num.count(1)\n",
    "print(count)\n",
    "\n",
    "name=[\"hp\", \"lenovo\", \"hp\", \"mac\", \"linux\"]\n",
    "count = name.count(\"hp\")\n",
    "print(count)\n"
   ]
  },
  {
   "cell_type": "code",
   "execution_count": 83,
   "id": "e2f9a8dd-3f9f-4473-bf7d-e333b68c101a",
   "metadata": {},
   "outputs": [
    {
     "name": "stdout",
     "output_type": "stream",
     "text": [
      "[0, 1, 2, 4, 5, 12, 44, 87]\n",
      "['ANT', 'Ape', 'apple']\n",
      "['Axe', 'ant', 'ball']\n"
     ]
    }
   ],
   "source": [
    "#sort():\n",
    "num=[2,4,5,1,0,87,44,12]\n",
    "num.sort()\n",
    "print(num)\n",
    "\n",
    "name=[\"apple\", \"Ape\", \"ANT\"]\n",
    "name.sort()\n",
    "print(name)\n",
    "\n",
    "name1=[\"ant\", \"ball\", \"Axe\"]\n",
    "name1.sort()\n",
    "print(name1)\n"
   ]
  },
  {
   "cell_type": "code",
   "execution_count": 85,
   "id": "df21e25b-7bc1-49ed-8408-d97b3915539b",
   "metadata": {},
   "outputs": [
    {
     "name": "stdout",
     "output_type": "stream",
     "text": [
      "[40, 30, 20, 10]\n",
      "['kiwi', 'cherry', 'banana', 'apple']\n"
     ]
    }
   ],
   "source": [
    "#reverse():\n",
    "number=[10,20,30,40]\n",
    "number.reverse()\n",
    "print(number)\n",
    "\n",
    "name=[\"apple\", \"banana\", \"cherry\",\"kiwi\"]\n",
    "name.reverse()\n",
    "print(name)\n"
   ]
  },
  {
   "cell_type": "code",
   "execution_count": null,
   "id": "904dd912-9edc-42f7-9589-ecd569c14616",
   "metadata": {},
   "outputs": [],
   "source": []
  }
 ],
 "metadata": {
  "kernelspec": {
   "display_name": "Python 3 (ipykernel)",
   "language": "python",
   "name": "python3"
  },
  "language_info": {
   "codemirror_mode": {
    "name": "ipython",
    "version": 3
   },
   "file_extension": ".py",
   "mimetype": "text/x-python",
   "name": "python",
   "nbconvert_exporter": "python",
   "pygments_lexer": "ipython3",
   "version": "3.12.4"
  }
 },
 "nbformat": 4,
 "nbformat_minor": 5
}
