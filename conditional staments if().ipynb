{
 "cells": [
  {
   "cell_type": "code",
   "execution_count": 27,
   "id": "69945957-9c13-48f7-9fc6-38fe7b823a86",
   "metadata": {},
   "outputs": [
    {
     "name": "stdin",
     "output_type": "stream",
     "text": [
      "Enter a number:  10\n"
     ]
    },
    {
     "name": "stdout",
     "output_type": "stream",
     "text": [
      "Even\n"
     ]
    }
   ],
   "source": [
    "# 1.Python program to check if the  number is odd or even.\n",
    "\n",
    "\n",
    "num = int(input(\"Enter a number: \"))\n",
    "if (num % 2) == 0:\n",
    "   print(\"Even\")\n",
    "else:\n",
    "   print(\"Odd\")\n",
    "   "
   ]
  },
  {
   "cell_type": "code",
   "execution_count": 16,
   "id": "f3050cad-e215-4b28-bd54-3c491243ce9c",
   "metadata": {},
   "outputs": [
    {
     "name": "stdin",
     "output_type": "stream",
     "text": [
      "enter the first number: 100\n",
      "enter the second number: 200\n",
      "enter the third number: 300\n"
     ]
    },
    {
     "name": "stdout",
     "output_type": "stream",
     "text": [
      "The largest number is 300\n"
     ]
    }
   ],
   "source": [
    "# 2.Python program to find the largest number among the three numbers:\n",
    "\n",
    "\n",
    "num1 = int(input(\"enter the first number:\"))\n",
    "num2 = int(input(\"enter the second number:\"))\n",
    "num3 = int(input(\"enter the third number:\"))\n",
    "\n",
    "\n",
    "if (num1 >= num2) and (num1 >= num3):\n",
    "   largest = num1\n",
    "elif (num2 >= num1) and (num2 >= num3):\n",
    "   largest = num2\n",
    "else:\n",
    "   largest = num3\n",
    "\n",
    "print(\"The largest number is\", largest)"
   ]
  },
  {
   "cell_type": "code",
   "execution_count": 19,
   "id": "3e022abb-5ed5-4ae4-921d-a69e8843f9b6",
   "metadata": {},
   "outputs": [
    {
     "name": "stdin",
     "output_type": "stream",
     "text": [
      "enter the first number: 10\n",
      "enter the second number: 12\n",
      "enter the third number: 14\n"
     ]
    },
    {
     "name": "stdout",
     "output_type": "stream",
     "text": [
      "The smallest number is 10\n"
     ]
    }
   ],
   "source": [
    "# 3.write the python program to find the smallest number among the three numbers:\n",
    "\n",
    "num1= input(\"enter the first number:\")\n",
    "num2= input(\"enter the second number:\")\n",
    "num3= input(\"enter the third number:\")\n",
    "\n",
    "if (num1 <= num2) and (num1 <= num3):\n",
    "          smallest = num1\n",
    "elif(num2<= num1) and (num2 <= num3):\n",
    "            smallest = num2\n",
    "else:\n",
    "    samllest = num3\n",
    "\n",
    "print(\"The smallest number is\", smallest)\n"
   ]
  },
  {
   "cell_type": "code",
   "execution_count": 30,
   "id": "afa3bacb-d4fb-4005-8d94-08127fee28f5",
   "metadata": {},
   "outputs": [
    {
     "name": "stdin",
     "output_type": "stream",
     "text": [
      "enter the marks: 45\n"
     ]
    },
    {
     "name": "stdout",
     "output_type": "stream",
     "text": [
      "grade is  F\n"
     ]
    }
   ],
   "source": [
    "#4. write a python program for grading system:\n",
    "\n",
    "marks = int(input(\"enter the marks:\"))\n",
    "\n",
    "\n",
    "if(marks >=90):\n",
    "    grade = \"A\"\n",
    "elif(marks >=80 and marks < 90):\n",
    "    grade = \"B\"\n",
    "elif(marks >=70 and marks < 80):\n",
    "    grade = \"C\"\n",
    "elif(marks >=60 and marks < 70):\n",
    "    grade = \"D\"\n",
    "elif(marks >=50 and marks < 60):\n",
    "    grade = \"E\"\n",
    "else:\n",
    "    grade = \"F\"\n",
    "\n",
    "print(\"grade is \", grade)\n",
    "\n"
   ]
  },
  {
   "cell_type": "code",
   "execution_count": null,
   "id": "0f922f4f-ef2a-43e7-9bcb-675fb9f5e639",
   "metadata": {},
   "outputs": [],
   "source": []
  }
 ],
 "metadata": {
  "kernelspec": {
   "display_name": "Python 3 (ipykernel)",
   "language": "python",
   "name": "python3"
  },
  "language_info": {
   "codemirror_mode": {
    "name": "ipython",
    "version": 3
   },
   "file_extension": ".py",
   "mimetype": "text/x-python",
   "name": "python",
   "nbconvert_exporter": "python",
   "pygments_lexer": "ipython3",
   "version": "3.12.4"
  }
 },
 "nbformat": 4,
 "nbformat_minor": 5
}
