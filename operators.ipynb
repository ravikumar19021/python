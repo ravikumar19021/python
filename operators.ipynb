{
 "cells": [
  {
   "cell_type": "code",
   "execution_count": 3,
   "id": "af0c646e-c04c-4ff6-bc45-6dbec12df93a",
   "metadata": {},
   "outputs": [
    {
     "name": "stdout",
     "output_type": "stream",
     "text": [
      "addition: 27\n"
     ]
    }
   ],
   "source": [
    "#arthmetic operators\n",
    "a=12\n",
    "b=15\n",
    "c=a+b\n",
    "#addition:\n",
    "print(\"addition:\",c)\n",
    "\n",
    "\n"
   ]
  },
  {
   "cell_type": "code",
   "execution_count": 4,
   "id": "7a207eb7-2808-45fa-a510-48e5803f53ec",
   "metadata": {},
   "outputs": [
    {
     "name": "stdout",
     "output_type": "stream",
     "text": [
      "substraction: 3\n"
     ]
    }
   ],
   "source": [
    "#substraction:\n",
    "d= b-a\n",
    "print(\"substraction:\",d)\n"
   ]
  },
  {
   "cell_type": "code",
   "execution_count": 5,
   "id": "bb3ece0d-5980-47a9-9fca-d03d13fe20be",
   "metadata": {},
   "outputs": [
    {
     "name": "stdout",
     "output_type": "stream",
     "text": [
      "multiplication: 180\n"
     ]
    }
   ],
   "source": [
    "#multiplication:\n",
    "e= a*b\n",
    "print(\"multiplication:\",e)\n"
   ]
  },
  {
   "cell_type": "code",
   "execution_count": 6,
   "id": "4bb6e9ed-ceb7-4031-81c2-1aa90cbdd9ae",
   "metadata": {},
   "outputs": [
    {
     "name": "stdout",
     "output_type": "stream",
     "text": [
      "division: 0.8\n"
     ]
    }
   ],
   "source": [
    "#division:\n",
    "f=a/b\n",
    "print(\"division:\",f)\n"
   ]
  },
  {
   "cell_type": "code",
   "execution_count": 8,
   "id": "cf889b1a-ea39-4222-9d7b-17d726ebe0f0",
   "metadata": {},
   "outputs": [
    {
     "name": "stdout",
     "output_type": "stream",
     "text": [
      "modulus: 12\n"
     ]
    }
   ],
   "source": [
    "#modulus:\n",
    "g=a%b\n",
    "print(\"modulus:\",g)\n"
   ]
  },
  {
   "cell_type": "code",
   "execution_count": 11,
   "id": "bfcf759e-acc0-437f-8ea8-99a217217e99",
   "metadata": {},
   "outputs": [
    {
     "name": "stdout",
     "output_type": "stream",
     "text": [
      "floor division: 0\n"
     ]
    }
   ],
   "source": [
    "#floor division:\n",
    "h=a//b\n",
    "print(\"floor division:\",h)\n",
    "\n"
   ]
  },
  {
   "cell_type": "code",
   "execution_count": 24,
   "id": "af87a99c-5b58-43a7-9b87-91a72447fccc",
   "metadata": {},
   "outputs": [
    {
     "name": "stdout",
     "output_type": "stream",
     "text": [
      "addition assignment: 162\n",
      "substraction assignment: 78\n",
      "multiplication assignment: 6552\n",
      "division assignment: 78.0\n",
      "modulus assignment: 78.0\n",
      "exponent assignment: 8.628724957945058e+158\n"
     ]
    }
   ],
   "source": [
    "#assignment operators:\n",
    "a=78\n",
    "b=84\n",
    "\n",
    "#addition assignment:\n",
    "a+=b\n",
    "print(\"addition assignment:\",a)\n",
    "\n",
    "#substraction assignment:\n",
    "a-=b\n",
    "print(\"substraction assignment:\",a)\n",
    "\n",
    "#multiplication assignment:\n",
    "a*=b\n",
    "print(\"multiplication assignment:\",a)\n",
    "\n",
    "#division assignment:\n",
    "a/=b\n",
    "print(\"division assignment:\",a)\n",
    "\n",
    "#modulus assignment:\n",
    "a%=b\n",
    "print(\"modulus assignment:\",a)\n",
    "\n",
    "#exponent assignment:\n",
    "a**=b\n",
    "print(\"exponent assignment:\",a)\n",
    "\n",
    "\n",
    "\n",
    "\n"
   ]
  },
  {
   "cell_type": "code",
   "execution_count": 26,
   "id": "c2c0dbf5-64a1-4298-9e06-b53a30b9a98b",
   "metadata": {},
   "outputs": [
    {
     "data": {
      "text/plain": [
       "False"
      ]
     },
     "execution_count": 26,
     "metadata": {},
     "output_type": "execute_result"
    }
   ],
   "source": [
    "#comparision operators:\n",
    "# is equal to:\n",
    "\n",
    "a=152\n",
    "b=157\n",
    "a==b\n"
   ]
  },
  {
   "cell_type": "code",
   "execution_count": 28,
   "id": "dcbba817-b3b3-48da-82ea-8ba5df51940d",
   "metadata": {},
   "outputs": [
    {
     "data": {
      "text/plain": [
       "True"
      ]
     },
     "execution_count": 28,
     "metadata": {},
     "output_type": "execute_result"
    }
   ],
   "source": [
    "# is not equal to:\n",
    "\n",
    "c=897\n",
    "d=789\n",
    "c!=d\n"
   ]
  },
  {
   "cell_type": "code",
   "execution_count": 29,
   "id": "e61d9725-a89c-4c6a-9527-61673da318bf",
   "metadata": {},
   "outputs": [
    {
     "data": {
      "text/plain": [
       "True"
      ]
     },
     "execution_count": 29,
     "metadata": {},
     "output_type": "execute_result"
    }
   ],
   "source": [
    "#lessthan\n",
    "a=123\n",
    "b=254\n",
    "a<b\n"
   ]
  },
  {
   "cell_type": "code",
   "execution_count": 31,
   "id": "9cce69a4-7400-4781-90b7-545d424bf2fb",
   "metadata": {},
   "outputs": [
    {
     "data": {
      "text/plain": [
       "False"
      ]
     },
     "execution_count": 31,
     "metadata": {},
     "output_type": "execute_result"
    }
   ],
   "source": [
    "#greaterthan\n",
    "a=258\n",
    "b=789\n",
    "a>b\n"
   ]
  },
  {
   "cell_type": "code",
   "execution_count": 30,
   "id": "e4731b10-5f59-4a50-9e6e-7257931012ba",
   "metadata": {},
   "outputs": [
    {
     "data": {
      "text/plain": [
       "True"
      ]
     },
     "execution_count": 30,
     "metadata": {},
     "output_type": "execute_result"
    }
   ],
   "source": [
    "#lessthan or equal to:\n",
    "apple=45\n",
    "blue=54\n",
    "apple<=blue\n"
   ]
  },
  {
   "cell_type": "code",
   "execution_count": 33,
   "id": "4a998932-3eac-4ba0-bcc8-e1564b9c49dd",
   "metadata": {},
   "outputs": [
    {
     "data": {
      "text/plain": [
       "False"
      ]
     },
     "execution_count": 33,
     "metadata": {},
     "output_type": "execute_result"
    }
   ],
   "source": [
    "#greaterthan or equal to:\n",
    "bird=78\n",
    "animal=89\n",
    "bird>=animal\n"
   ]
  },
  {
   "cell_type": "code",
   "execution_count": 38,
   "id": "2e45a6fc-3080-4e80-a997-cbba9ed34175",
   "metadata": {},
   "outputs": [
    {
     "name": "stdout",
     "output_type": "stream",
     "text": [
      "True\n"
     ]
    }
   ],
   "source": [
    "#logical operators:\n",
    "#and operator:\n",
    "\n",
    "print(50>30 and 78<89) #both true then true\n",
    "\n"
   ]
  },
  {
   "cell_type": "code",
   "execution_count": 39,
   "id": "b4724fa6-3973-424d-b90b-d1a7d8e8f0f5",
   "metadata": {},
   "outputs": [
    {
     "name": "stdout",
     "output_type": "stream",
     "text": [
      "True\n"
     ]
    }
   ],
   "source": [
    "#logical or:\n",
    "\n",
    "print(50>30 or 78<15)# true if either of them is true\n",
    "\n"
   ]
  },
  {
   "cell_type": "code",
   "execution_count": 41,
   "id": "96373168-fdb1-418c-b09c-e86a44f9b408",
   "metadata": {},
   "outputs": [
    {
     "name": "stdout",
     "output_type": "stream",
     "text": [
      "True\n",
      "False\n"
     ]
    }
   ],
   "source": [
    "#logical not\n",
    "# true if it's false\n",
    "print(not(12>1 and 14<12))\n",
    "print(not(15>14 or 74<25))\n",
    "      \n"
   ]
  },
  {
   "cell_type": "code",
   "execution_count": 44,
   "id": "ea7884dd-04ff-4bf0-babc-c54dc9a09fd1",
   "metadata": {},
   "outputs": [
    {
     "name": "stdout",
     "output_type": "stream",
     "text": [
      "False\n"
     ]
    }
   ],
   "source": [
    "#identify operators:\n",
    "\n",
    "x=4\n",
    "y=5\n",
    "x1= \"apple\"\n",
    "y1= \"orange\"\n",
    "\n",
    "# is:\n",
    "print(x is y)\n"
   ]
  },
  {
   "cell_type": "code",
   "execution_count": 45,
   "id": "2e652802-9e36-4e7d-a496-c11ac07f6dce",
   "metadata": {},
   "outputs": [
    {
     "name": "stdout",
     "output_type": "stream",
     "text": [
      "True\n"
     ]
    }
   ],
   "source": [
    "#is not:\n",
    "print(x1 is not y1)\n"
   ]
  },
  {
   "cell_type": "code",
   "execution_count": 47,
   "id": "df7e9b76-e34b-4782-8aae-626fc11f6a23",
   "metadata": {},
   "outputs": [
    {
     "name": "stdout",
     "output_type": "stream",
     "text": [
      "True\n",
      "False\n"
     ]
    }
   ],
   "source": [
    "#membership operator:\n",
    "\n",
    "numbers=[1,2,3,4,5,6]\n",
    "# in :\n",
    "\n",
    "print(2 in numbers)\n",
    "print(7 in numbers)\n"
   ]
  },
  {
   "cell_type": "code",
   "execution_count": 53,
   "id": "3f413b8d-3d1b-48f1-8174-1f8fcce65ca3",
   "metadata": {},
   "outputs": [
    {
     "name": "stdout",
     "output_type": "stream",
     "text": [
      "True\n",
      "True\n"
     ]
    }
   ],
   "source": [
    "# not in :\n",
    "A=\"welcome to python\"\n",
    "\n",
    "print( \"hello\" not in A)\n",
    "print(\"xyz\" not in A)"
   ]
  },
  {
   "cell_type": "code",
   "execution_count": 5,
   "id": "e36e19fb-d4d2-49a7-944b-04bd6a2a4d94",
   "metadata": {},
   "outputs": [
    {
     "name": "stdout",
     "output_type": "stream",
     "text": [
      "8\n",
      "93\n",
      "70\n",
      "-15\n",
      "768\n",
      "0\n"
     ]
    }
   ],
   "source": [
    "#bitwise operators:\n",
    "\n",
    "#bitwise and:\n",
    "print(9&12)\n",
    "\n",
    "#bitwise or:\n",
    "print(85|25)\n",
    "\n",
    "#bitwise xor:\n",
    "print(74^12)\n",
    "\n",
    "#bitwise not:\n",
    "print(~14)\n",
    "\n",
    "#left shift:\n",
    "print(12<<6)\n",
    "\n",
    "#right shift:\n",
    "print(54>>9)\n"
   ]
  },
  {
   "cell_type": "code",
   "execution_count": null,
   "id": "145baddf-fc4e-4695-8fde-95d6fd65d395",
   "metadata": {},
   "outputs": [],
   "source": []
  }
 ],
 "metadata": {
  "kernelspec": {
   "display_name": "Python 3 (ipykernel)",
   "language": "python",
   "name": "python3"
  },
  "language_info": {
   "codemirror_mode": {
    "name": "ipython",
    "version": 3
   },
   "file_extension": ".py",
   "mimetype": "text/x-python",
   "name": "python",
   "nbconvert_exporter": "python",
   "pygments_lexer": "ipython3",
   "version": "3.12.4"
  }
 },
 "nbformat": 4,
 "nbformat_minor": 5
}
