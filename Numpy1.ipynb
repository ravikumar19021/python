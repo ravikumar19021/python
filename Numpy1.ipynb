{
 "cells": [
  {
   "cell_type": "code",
   "execution_count": 2,
   "id": "9f721e08-f258-43e6-9008-5d306ccad0b2",
   "metadata": {},
   "outputs": [
    {
     "name": "stdout",
     "output_type": "stream",
     "text": [
      "3\n",
      "6\n"
     ]
    }
   ],
   "source": [
    "#Access array elements:\n",
    "\n",
    "#you can access an array element by referring to its index number.\n",
    "#The indexes in NumPy array start with 0. it means first element has index 0.\n",
    "\n",
    "import numpy as np\n",
    "\n",
    "arr =np.array([1,2,3,4,5,6])\n",
    "print(arr[2])\n",
    "print(arr[5])"
   ]
  },
  {
   "cell_type": "code",
   "execution_count": 3,
   "id": "73315eda-64a3-4a0e-bc97-c9db9ac82544",
   "metadata": {},
   "outputs": [
    {
     "name": "stdout",
     "output_type": "stream",
     "text": [
      "-4\n",
      "10\n",
      "12\n"
     ]
    }
   ],
   "source": [
    "#adding two index position.\n",
    "\n",
    "arr = np.array([1,6,5,2,6,3])\n",
    "print(arr[2]-arr[5]-arr[4])\n",
    "print(arr[5]+arr[3]+arr[2])\n",
    "print(arr[4]*arr[3])"
   ]
  },
  {
   "cell_type": "code",
   "execution_count": 5,
   "id": "133eea14-4955-4bc9-a78a-b672aed14e90",
   "metadata": {},
   "outputs": [
    {
     "name": "stdout",
     "output_type": "stream",
     "text": [
      "4nd element on 3rd row: 8\n"
     ]
    }
   ],
   "source": [
    "#Access 2-D arrays\n",
    "#access the element on the first row , second column\n",
    "arr = np.array([[1,2,3,4,5],[6,9,4,2,8],[5,2,7,8,4],[1,9,3,2,8]])\n",
    "print('4nd element on 3rd row:', arr[3,4])"
   ]
  },
  {
   "cell_type": "code",
   "execution_count": 6,
   "id": "4ea98753-0c03-4e3a-82e0-7cf70e1589c8",
   "metadata": {},
   "outputs": [
    {
     "name": "stdout",
     "output_type": "stream",
     "text": [
      "2nd element on 2nd row: 4\n"
     ]
    }
   ],
   "source": [
    "arr = np.array([[2,7,8],[9,3,4],[5,3,4]])\n",
    "print('2nd element on 2nd row:', arr[2,2])"
   ]
  },
  {
   "cell_type": "code",
   "execution_count": 8,
   "id": "29f2f4d3-5c8c-4b6f-bebe-c040b50e99d1",
   "metadata": {},
   "outputs": [
    {
     "name": "stdout",
     "output_type": "stream",
     "text": [
      "7\n",
      "3\n",
      "3\n"
     ]
    }
   ],
   "source": [
    "#Access 3-D Arrays\n",
    "arr = np.array([[[1,2,3],\n",
    "                 [4,5,6]],\n",
    "                [[1,3,5],\n",
    "                 [4,6,9]],\n",
    "                [[1,2,3],\n",
    "                 [4,7,4]],\n",
    "                [[5,5,2],\n",
    "                 [5,7,2]]])\n",
    "\n",
    "#Access by index\n",
    "print(arr[3,1,1]) #([2d,1d,element])\n",
    "print(arr[1,0,1])\n",
    "print(arr[2,0,2])"
   ]
  },
  {
   "cell_type": "code",
   "execution_count": 14,
   "id": "a060d520-e46b-4941-9784-5303b04d33c0",
   "metadata": {},
   "outputs": [],
   "source": [
    "#Data Types:\n",
    "\n",
    "#i - integer\n",
    "#b - boolean\n",
    "#u - unsigned(just like integers(whole numbers)but have the property that they dont have a + or - sign associated with them)\n",
    "#f - float\n",
    "#c - complex\n",
    "#M - datetime\n",
    "#O - Object\n",
    "#S - String\n"
   ]
  },
  {
   "cell_type": "code",
   "execution_count": 15,
   "id": "1f8eed00-a580-4fd8-8660-0d28ebdba8b2",
   "metadata": {},
   "outputs": [
    {
     "name": "stdout",
     "output_type": "stream",
     "text": [
      "int32\n"
     ]
    }
   ],
   "source": [
    "#checking the datatype\n",
    "import numpy as np\n",
    "arr = np.array([1, 2, 3, 4])\n",
    "print(arr.dtype)"
   ]
  },
  {
   "cell_type": "code",
   "execution_count": 16,
   "id": "3a152a52-6e76-41fe-b37c-1f8bdf55fb8d",
   "metadata": {},
   "outputs": [
    {
     "name": "stdout",
     "output_type": "stream",
     "text": [
      "[b'1' b'2' b'3' b'4']\n",
      "|S1\n"
     ]
    }
   ],
   "source": [
    "#string\n",
    "arr = np.array([1,2,3,4], dtype = 'S')\n",
    "print(arr)\n",
    "print(arr.dtype)"
   ]
  },
  {
   "cell_type": "code",
   "execution_count": 17,
   "id": "f9e38796-313f-43e9-90d5-9d515fea4d2f",
   "metadata": {},
   "outputs": [
    {
     "name": "stdout",
     "output_type": "stream",
     "text": [
      "[1 6 3 3]\n",
      "int32\n"
     ]
    }
   ],
   "source": [
    "#Create an array with data type 4 bytes integer:\n",
    "\n",
    "arr = np.array([1, 6, 3, 3], dtype='i4')\n",
    "print(arr)\n",
    "print(arr.dtype)"
   ]
  },
  {
   "cell_type": "code",
   "execution_count": 18,
   "id": "bcff840b-d067-433d-9420-7653ad8e813b",
   "metadata": {},
   "outputs": [
    {
     "name": "stdout",
     "output_type": "stream",
     "text": [
      "[1 2 3]\n",
      "int32\n"
     ]
    }
   ],
   "source": [
    "#Change data type from float to integer by using 'i' as parameter value:\n",
    "\n",
    "arr = np.array([1.1, 2.1, 3.1])\n",
    "newarr = arr.astype('i')\n",
    "print(newarr)\n",
    "print(newarr.dtype)"
   ]
  },
  {
   "cell_type": "code",
   "execution_count": 19,
   "id": "cb0f5678-c94d-40d4-a7b3-24a9f0e89306",
   "metadata": {},
   "outputs": [
    {
     "name": "stdout",
     "output_type": "stream",
     "text": [
      "[1 4 8]\n",
      "int32\n"
     ]
    }
   ],
   "source": [
    "#Change data type from float to integer by using int as parameter value:\n",
    "\n",
    "arr = np.array([1.5, 4.1, 8.6])\n",
    "newarr = arr.astype(int)\n",
    "print(newarr)\n",
    "print(newarr.dtype)"
   ]
  },
  {
   "cell_type": "code",
   "execution_count": 20,
   "id": "a2dc810b-43a7-4e20-883e-04c693960ae3",
   "metadata": {},
   "outputs": [
    {
     "name": "stdout",
     "output_type": "stream",
     "text": [
      "[ True False  True  True False  True]\n",
      "bool\n"
     ]
    }
   ],
   "source": [
    "#Change data type from integer to boolean:\n",
    "\n",
    "arr = np.array([1, 0, 3, 7, 0, 8]) # 0 means false and all numbers 1-9 are true.\n",
    "newarr = arr.astype(bool)\n",
    "print(newarr)\n",
    "print(newarr.dtype)"
   ]
  },
  {
   "cell_type": "code",
   "execution_count": 21,
   "id": "0f12c7d7-4e65-4db3-a2b2-90f82ac2432d",
   "metadata": {},
   "outputs": [
    {
     "name": "stdout",
     "output_type": "stream",
     "text": [
      "[ True  True False  True]\n",
      "bool\n"
     ]
    }
   ],
   "source": [
    "arr = np.array([1, 3, 0, 5])\n",
    "newarr = arr.astype(bool)\n",
    "print(newarr)\n",
    "print(newarr.dtype)"
   ]
  },
  {
   "cell_type": "code",
   "execution_count": 22,
   "id": "abed62b2-e009-4f3d-adf1-385ae1f6bae4",
   "metadata": {},
   "outputs": [
    {
     "name": "stdout",
     "output_type": "stream",
     "text": [
      "[0. 1. 2. 3. 4.]\n"
     ]
    }
   ],
   "source": [
    "#changing into to float\n",
    "arr = np.array([0,1,2,3,4])\n",
    "x = arr.astype('f')\n",
    "print(x)"
   ]
  },
  {
   "cell_type": "code",
   "execution_count": 25,
   "id": "08b94eec-2c2a-4d58-8daf-7b7a59a4d7f9",
   "metadata": {},
   "outputs": [
    {
     "name": "stdout",
     "output_type": "stream",
     "text": [
      "['0.0' '1.5' '2.5' '3.5' '4.5']\n"
     ]
    }
   ],
   "source": [
    "#changing float to unsigned integer\n",
    "arr = np.array([0., 1.5, 2.5, 3.5, 4.5])\n",
    "x = arr.astype('U')\n",
    "print(x)"
   ]
  },
  {
   "cell_type": "code",
   "execution_count": 27,
   "id": "fedc65e8-f9b1-4544-9d3c-432731eb6514",
   "metadata": {},
   "outputs": [
    {
     "name": "stdout",
     "output_type": "stream",
     "text": [
      "['0' '1' '2' '3' '4' '5']\n"
     ]
    }
   ],
   "source": [
    "#changing int to unsigned integer\n",
    "arr = np.array([0, 1, 2, 3, 4, 5])\n",
    "x = arr.astype('U')\n",
    "print(x)"
   ]
  },
  {
   "cell_type": "code",
   "execution_count": 29,
   "id": "a2424d6d-d9ff-4a82-932a-4d778f6e75fd",
   "metadata": {},
   "outputs": [
    {
     "name": "stdout",
     "output_type": "stream",
     "text": [
      "[b'0' b'1' b'2' b'2' b'4']\n"
     ]
    }
   ],
   "source": [
    "#changing float to complex float\n",
    "arr = np.array([0.9, 1.6, 2.5, 2.7, 4.5])\n",
    "x = arr.astype('c')\n",
    "print(x)"
   ]
  },
  {
   "cell_type": "code",
   "execution_count": 30,
   "id": "5bdefd01-7129-45a2-a441-541c04b7f188",
   "metadata": {},
   "outputs": [
    {
     "name": "stdout",
     "output_type": "stream",
     "text": [
      "[b'1' b'9' b'6' b'5' b'3' b'7']\n"
     ]
    }
   ],
   "source": [
    "#changing int to complex float\n",
    "arr = np.array([1, 9, 6, 5, 3, 7])\n",
    "x = arr.astype('c')\n",
    "print(x)"
   ]
  },
  {
   "cell_type": "code",
   "execution_count": 31,
   "id": "bd779cd1-f7db-4eea-a4f3-f68dde2b2d57",
   "metadata": {},
   "outputs": [
    {
     "name": "stdout",
     "output_type": "stream",
     "text": [
      "[768 456 789  14  25]\n",
      "[123 456 789  14  25]\n"
     ]
    }
   ],
   "source": [
    "#copy method: use to copy the data, it doesnt effect original data.\n",
    "\n",
    "arr = np.array([123, 456, 789, 14, 25])\n",
    "x = arr.copy()\n",
    "arr[0] =  768\n",
    "print(arr)\n",
    "print(x)"
   ]
  },
  {
   "cell_type": "code",
   "execution_count": 32,
   "id": "fdc72d22-60a2-4d0a-9bc2-28d0068c90a7",
   "metadata": {},
   "outputs": [
    {
     "name": "stdout",
     "output_type": "stream",
     "text": [
      "[  1   2   3   4 768]\n",
      "[1 2 3 4 5]\n"
     ]
    }
   ],
   "source": [
    "arr = np.array([1, 2, 3, 4, 5])\n",
    "x = arr.copy()\n",
    "arr[4] =  768\n",
    "print(arr)\n",
    "print(x)"
   ]
  },
  {
   "cell_type": "code",
   "execution_count": 33,
   "id": "194c8aff-69a9-4474-bae0-df51923fe5b8",
   "metadata": {},
   "outputs": [
    {
     "name": "stdout",
     "output_type": "stream",
     "text": [
      "[42 20 30 40  0]\n",
      "[42 20 30 40  0]\n"
     ]
    }
   ],
   "source": [
    "#view method: it used to see the data, just like print()\n",
    "\n",
    "arr = np.array([10,20,30,40,0])\n",
    "x = arr.view()\n",
    "arr[0] = 42\n",
    "\n",
    "print(arr)\n",
    "print(x)"
   ]
  },
  {
   "cell_type": "code",
   "execution_count": 34,
   "id": "4016b0f3-aadd-42cc-933e-6276b61eb225",
   "metadata": {},
   "outputs": [
    {
     "name": "stdout",
     "output_type": "stream",
     "text": [
      "(2, 4)\n"
     ]
    }
   ],
   "source": [
    "#shape : The shape of an array is the number of elements in each dimension.\n",
    "arr = np.array([[1,2,3,4],[5,6,7,8]])\n",
    "print(arr.shape)"
   ]
  },
  {
   "cell_type": "code",
   "execution_count": 35,
   "id": "26b46cb6-e48a-4564-bfe8-6b440e0e8b5b",
   "metadata": {},
   "outputs": [
    {
     "name": "stdout",
     "output_type": "stream",
     "text": [
      "[[[1 2 3 4]]]\n",
      "shape of array : (1, 1, 4)\n"
     ]
    }
   ],
   "source": [
    "#Create an array with 3 dimensions using ndmin using a 1 dimension array\n",
    "arr = np.array([1, 2, 3, 4], ndmin=3)\n",
    "print(arr)\n",
    "print('shape of array :', arr.shape)"
   ]
  },
  {
   "cell_type": "code",
   "execution_count": 37,
   "id": "a1f12c34-cf7b-40fa-b2b5-da62ac0335b3",
   "metadata": {},
   "outputs": [
    {
     "name": "stdout",
     "output_type": "stream",
     "text": [
      "12\n",
      "[ 1  2  3  4  5  6  7  8  9 10 11 12]\n",
      "*************************************************************\n",
      "[[ 1  2  3  4  5  6]\n",
      " [ 7  8  9 10 11 12]]\n"
     ]
    }
   ],
   "source": [
    "#Reshaping arrays:\n",
    "\n",
    "#Reshaping means changing the shape of an array.\n",
    "#The shape of an array is the number of elements in each dimension.\n",
    "#By reshaping we can add or remove dimensions or change number of elements in each dimension.\n",
    "\n",
    "\n",
    "#converting the following 1-D array with 12 elements into a 2-D array.\n",
    "import numpy as np\n",
    "arr = np.array([1,2,3,4,5,6,7,8,9,10,11,12])\n",
    "print(arr.size)\n",
    "print(arr)\n",
    "print(\"*************************************************************\")\n",
    "newarr = arr.reshape(2,6)\n",
    "print(newarr)"
   ]
  },
  {
   "cell_type": "code",
   "execution_count": 38,
   "id": "a7395b9e-46be-4742-846f-d9ed6e579cde",
   "metadata": {},
   "outputs": [
    {
     "name": "stdout",
     "output_type": "stream",
     "text": [
      "[[ 1  5]\n",
      " [ 3  4]\n",
      " [ 5  3]\n",
      " [ 6  8]\n",
      " [ 8  9]\n",
      " [13 12]]\n"
     ]
    }
   ],
   "source": [
    "arr = np.array([1, 5, 3, 4, 5, 3, 6, 8, 8, 9, 13, 12])\n",
    "newarr = arr.reshape(6, 2)\n",
    "print(newarr)"
   ]
  },
  {
   "cell_type": "code",
   "execution_count": 40,
   "id": "def234dc-093b-4ad8-84ab-955153a185ee",
   "metadata": {},
   "outputs": [
    {
     "name": "stdout",
     "output_type": "stream",
     "text": [
      "[[ 1  5  3  4]\n",
      " [ 5  3  6  8]\n",
      " [ 8  9 13 12]]\n"
     ]
    }
   ],
   "source": [
    "arr = np.array([1, 5, 3, 4, 5, 3, 6, 8, 8, 9, 13, 12])\n",
    "newarr = arr.reshape(3,4 )\n",
    "print(newarr)"
   ]
  },
  {
   "cell_type": "code",
   "execution_count": 41,
   "id": "437eb613-2710-4e3a-b8b8-fff78e848c66",
   "metadata": {},
   "outputs": [
    {
     "name": "stdout",
     "output_type": "stream",
     "text": [
      "[[[ 1  2]\n",
      "  [ 3  4]\n",
      "  [ 5  6]]\n",
      "\n",
      " [[ 7  8]\n",
      "  [ 9 10]\n",
      "  [11 12]]]\n"
     ]
    }
   ],
   "source": [
    "#Convert the following 1-D array with 12 elements into a 3-D array.\n",
    "#The outermost dimension will have 2 arrays that contains 3 arrays, each with 2 elements:\n",
    "\n",
    "arr = np.array([1, 2, 3, 4, 5, 6, 7, 8, 9, 10, 11, 12])\n",
    "newarr = arr.reshape(2, 3, 2)\n",
    "print(newarr)"
   ]
  },
  {
   "cell_type": "code",
   "execution_count": 42,
   "id": "de1561d4-b2d2-4428-b747-98a1da8bf236",
   "metadata": {},
   "outputs": [
    {
     "name": "stdout",
     "output_type": "stream",
     "text": [
      "[[[ 1  2]\n",
      "  [ 3  4]\n",
      "  [ 5  6]\n",
      "  [ 7  8]\n",
      "  [ 9 10]\n",
      "  [11 12]]]\n"
     ]
    }
   ],
   "source": [
    "arr = np.array([1, 2, 3, 4, 5, 6, 7, 8, 9, 10, 11, 12])\n",
    "newarr = arr.reshape(1, 6, 2)\n",
    "print(newarr)\n"
   ]
  },
  {
   "cell_type": "code",
   "execution_count": 43,
   "id": "7a62daad-e03c-4049-a072-d7e130e4b1cf",
   "metadata": {},
   "outputs": [
    {
     "name": "stdout",
     "output_type": "stream",
     "text": [
      "[ 5  6  3  4  5  3  7  8  8  9 13 11  8  6  9  5  0  3  2  1]\n",
      "*************************************************************\n",
      "[[[ 5  6]\n",
      "  [ 3  4]]\n",
      "\n",
      " [[ 5  3]\n",
      "  [ 7  8]]\n",
      "\n",
      " [[ 8  9]\n",
      "  [13 11]]\n",
      "\n",
      " [[ 8  6]\n",
      "  [ 9  5]]\n",
      "\n",
      " [[ 0  3]\n",
      "  [ 2  1]]]\n"
     ]
    }
   ],
   "source": [
    "arr = np.array([5, 6, 3, 4, 5, 3, 7, 8, 8, 9, 13, 11, 8,6,9,5,0,3,2,1])\n",
    "newarr = arr.reshape(5, 2, 2)\n",
    "print(arr)\n",
    "print(\"*************************************************************\")\n",
    "print(newarr)"
   ]
  },
  {
   "cell_type": "code",
   "execution_count": 45,
   "id": "dee9dee9-6571-4d85-8356-d7b73226ab5a",
   "metadata": {},
   "outputs": [
    {
     "name": "stdout",
     "output_type": "stream",
     "text": [
      "[1 2 3 4 5 6]\n"
     ]
    }
   ],
   "source": [
    "#converting 2 -D array to 1 -D array\n",
    "arr = np.array([[1,2,3],[4,5,6]])\n",
    "x= arr.reshape(arr.size)\n",
    "print(x)"
   ]
  },
  {
   "cell_type": "code",
   "execution_count": 46,
   "id": "b75bfc3d-e54b-4e83-989a-12c9b59dcf11",
   "metadata": {},
   "outputs": [
    {
     "name": "stdout",
     "output_type": "stream",
     "text": [
      "18\n",
      "[[[1 5 6]\n",
      "  [4 5 3]]\n",
      "\n",
      " [[4 3 7]\n",
      "  [9 2 5]]\n",
      "\n",
      " [[4 1 2]\n",
      "  [6 3 1]]]\n",
      "*************************************************************\n",
      "[[[1 5]\n",
      "  [6 4]\n",
      "  [5 3]]\n",
      "\n",
      " [[4 3]\n",
      "  [7 9]\n",
      "  [2 5]]\n",
      "\n",
      " [[4 1]\n",
      "  [2 6]\n",
      "  [3 1]]]\n",
      "*************************************************************\n",
      "[[[1 5 6]\n",
      "  [4 5 3]\n",
      "  [4 3 7]]\n",
      "\n",
      " [[9 2 5]\n",
      "  [4 1 2]\n",
      "  [6 3 1]]]\n"
     ]
    }
   ],
   "source": [
    "#converting 2 - D to 3 - D array\n",
    "\n",
    "arr = np.array([[1,5,6,4,5,3],[4,3,7,9,2,5],[4,1,2,6,3,1]])\n",
    "print(arr.size)\n",
    "x= arr.reshape(3,2,3)\n",
    "print(x)\n",
    "print(\"*************************************************************\")\n",
    "y= arr.reshape(3,3,2)\n",
    "print(y)\n",
    "print(\"*************************************************************\")\n",
    "z= arr.reshape(2,3,3)\n",
    "print(z)"
   ]
  },
  {
   "cell_type": "code",
   "execution_count": 47,
   "id": "a1855d22-10e6-4fb5-b62e-44791d592ccb",
   "metadata": {},
   "outputs": [
    {
     "name": "stdout",
     "output_type": "stream",
     "text": [
      "18\n",
      "[[[ 1  2  3]\n",
      "  [ 4  5  6]]\n",
      "\n",
      " [[ 7  8  9]\n",
      "  [10 11 12]]\n",
      "\n",
      " [[13 14 15]\n",
      "  [16 17 18]]]\n",
      "*************************************************************\n",
      "[ 1  2  3  4  5  6  7  8  9 10 11 12 13 14 15 16 17 18]\n"
     ]
    }
   ],
   "source": [
    "#converting 3-D array to 1-D array\n",
    "arr = np.array([[[1,2,3],[4,5,6]],\n",
    "                [[7,8,9],[10,11,12]],\n",
    "                [[13,14,15],[16,17,18]]])\n",
    "print(arr.size)\n",
    "print(arr)\n",
    "print(\"*************************************************************\")\n",
    "x= arr.reshape(arr.size)\n",
    "print(x)"
   ]
  },
  {
   "cell_type": "code",
   "execution_count": 51,
   "id": "db8e4b23-7577-46f9-852f-945de10a9398",
   "metadata": {},
   "outputs": [
    {
     "name": "stdout",
     "output_type": "stream",
     "text": [
      "18\n",
      "[[[1 4 5]\n",
      "  [3 6 4]]\n",
      "\n",
      " [[3 7 6]\n",
      "  [4 6 2]]\n",
      "\n",
      " [[6 7 3]\n",
      "  [9 6 0]]]\n",
      "*************************************************************\n",
      "[[1 4 5 3 6 4 3 7 6 4 6 2 6 7 3 9 6 0]]\n",
      "*********************************\n",
      "[[1 4 5 3 6 4 3 7 6]\n",
      " [4 6 2 6 7 3 9 6 0]]\n"
     ]
    }
   ],
   "source": [
    "#converting 3-D array to 2-D array\n",
    "arr = np.array([[[1,4,5],[3,6,4]],\n",
    "                [[3,7,6],[4,6,2]],\n",
    "                [[6,7,3],[9,6,0]]])\n",
    "print(arr.size)\n",
    "print(arr)\n",
    "print(\"*************************************************************\")\n",
    "x= arr.reshape(1,18)\n",
    "print(x)\n",
    "print(\"*********************************\")\n",
    "x= arr.reshape(2,9)\n",
    "print(x)"
   ]
  },
  {
   "cell_type": "code",
   "execution_count": 52,
   "id": "7bf695e6-9f6f-4bc0-9cd6-58c8302ab613",
   "metadata": {},
   "outputs": [
    {
     "name": "stdout",
     "output_type": "stream",
     "text": [
      "[[1. 2.]\n",
      " [3. 4.]]\n",
      "****************\n",
      "[[5. 6.]\n",
      " [7. 8.]]\n"
     ]
    }
   ],
   "source": [
    "#python program to create a datatype object\n",
    "\n",
    "x= np.array([[1,2],[3,4]], dtype =np.float64)\n",
    "print(x)\n",
    "print(\"****************\")\n",
    "y = np.array([[5,6],[7,8]], dtype = np.float64)\n",
    "print(y)"
   ]
  },
  {
   "cell_type": "code",
   "execution_count": 53,
   "id": "84b5cc2f-74ab-4dc7-b032-d59acf6728d8",
   "metadata": {},
   "outputs": [
    {
     "name": "stdout",
     "output_type": "stream",
     "text": [
      "[0 1 2 3]\n"
     ]
    }
   ],
   "source": [
    "#sorting arrays\n",
    "#Sorting means putting elements in an ordered sequence.\n",
    "#Ordered sequence is any sequence that has an order corresponding to elements, like numeric or alphabetical, ascending or descending.\n",
    "#The NumPy ndarray object has a function called sort(), that will sort a specified array.\n",
    "\n",
    "arr = np.array([3, 2, 0, 1])\n",
    "print(np.sort(arr))"
   ]
  },
  {
   "cell_type": "code",
   "execution_count": 54,
   "id": "784469e8-db67-45e2-8ffa-708cac2ab212",
   "metadata": {},
   "outputs": [
    {
     "name": "stdout",
     "output_type": "stream",
     "text": [
      "[[[1 4 5]\n",
      "  [3 4 6]]\n",
      "\n",
      " [[3 6 7]\n",
      "  [2 4 6]]\n",
      "\n",
      " [[3 6 7]\n",
      "  [0 6 9]]]\n"
     ]
    }
   ],
   "source": [
    "arr = np.array([[[1,4,5],[3,6,4]],\n",
    "                [[3,7,6],[4,6,2]],\n",
    "                [[6,7,3],[9,6,0]]])\n",
    "print(np.sort(arr))"
   ]
  },
  {
   "cell_type": "code",
   "execution_count": 55,
   "id": "a1762772-b879-4bd9-9252-7c69c9324fb6",
   "metadata": {},
   "outputs": [],
   "source": [
    "#SLicing arrays:\n",
    "#Slicing in python means taking elements from one given index to another given index.\n",
    "#We pass slice instead of index like this: [start:end].\n",
    "#We can also define the step, like this: [start:end:step].\n",
    "#If we don't pass start its considered 0\n",
    "#If we don't pass end its considered length of array in that dimension\n",
    "#If we don't pass step its considered 1."
   ]
  },
  {
   "cell_type": "code",
   "execution_count": 57,
   "id": "202a4017-d134-4a68-900e-45bfcf3d5df4",
   "metadata": {},
   "outputs": [
    {
     "name": "stdout",
     "output_type": "stream",
     "text": [
      "[2 3 4 5]\n"
     ]
    }
   ],
   "source": [
    "arr = np.array([1, 2, 3, 4, 5, 6, 7])\n",
    "print(arr[1:5])#n-1"
   ]
  },
  {
   "cell_type": "code",
   "execution_count": 58,
   "id": "e4df4d8e-a51d-4c1e-96d3-61424d676a3b",
   "metadata": {},
   "outputs": [
    {
     "name": "stdout",
     "output_type": "stream",
     "text": [
      "[4 5 3 6 8]\n"
     ]
    }
   ],
   "source": [
    "arr = np.array([1, 5, 3, 4, 5, 3, 6, 8, 8, 9, 13, 12])\n",
    "print(arr[3:8])"
   ]
  },
  {
   "cell_type": "code",
   "execution_count": 62,
   "id": "cdd9a1b8-8012-460d-85ce-3b6f7a53063a",
   "metadata": {},
   "outputs": [
    {
     "name": "stdout",
     "output_type": "stream",
     "text": [
      "[5 6 7]\n",
      "[1 2 3 4 5 6 7]\n",
      "******************\n",
      "[1 2 3 4 5 6 7]\n"
     ]
    }
   ],
   "source": [
    "#Slice elements from index 4 to the end of the array:\n",
    "\n",
    "arr = np.array([1, 2, 3, 4, 5, 6, 7])\n",
    "print(arr[4:])\n",
    "\n",
    "# from 0 to end of array:\n",
    "print(arr[:])\n",
    "\n",
    "print(\"******************\")\n",
    "print(arr[:7])"
   ]
  },
  {
   "cell_type": "code",
   "execution_count": 63,
   "id": "92843716-c6f7-4534-9be8-cc20bce2447f",
   "metadata": {},
   "outputs": [
    {
     "name": "stdout",
     "output_type": "stream",
     "text": [
      "[ 3  6  8  8  9 13]\n"
     ]
    }
   ],
   "source": [
    "#Negative Slicing : Use the minus operator to refer to an index from the end\n",
    "#Slice from the index 3 from the end to index 1 from the end:\n",
    "\n",
    "arr = np.array([1, 5, 3, 4, 5, 3, 6, 8, 8, 9, 13, 12])\n",
    "print(arr[-7:-1])\n"
   ]
  },
  {
   "cell_type": "code",
   "execution_count": 64,
   "id": "61ceeb24-966a-4766-a70a-a645bf5d5887",
   "metadata": {},
   "outputs": [
    {
     "name": "stdout",
     "output_type": "stream",
     "text": [
      "[5 4]\n"
     ]
    }
   ],
   "source": [
    "#step : Use the step value to determine the step of the slicing\n",
    "#Return every other element from index 1 to index 5:\n",
    "\n",
    "arr = np.array([1, 5, 3, 4, 5, 3, 6, 8, 8, 9, 13, 12])\n",
    "print(arr[1:5:2])"
   ]
  },
  {
   "cell_type": "code",
   "execution_count": 65,
   "id": "88844fe4-6657-4619-88f7-fbd6ac1b6c27",
   "metadata": {},
   "outputs": [
    {
     "name": "stdout",
     "output_type": "stream",
     "text": [
      "[ 1  3  5  6  8 13]\n"
     ]
    }
   ],
   "source": [
    "#Return every other element from the entire array:\n",
    "\n",
    "\n",
    "arr = np.array([1, 5, 3, 4, 5, 3, 6, 8, 8, 9, 13, 12])\n",
    "print(arr[::2])\n"
   ]
  },
  {
   "cell_type": "code",
   "execution_count": 66,
   "id": "5ae27bb1-5741-4cc5-8e05-1b812b9f57d8",
   "metadata": {},
   "outputs": [
    {
     "name": "stdout",
     "output_type": "stream",
     "text": [
      "[7 8 9]\n"
     ]
    }
   ],
   "source": [
    "#Slicing 2-D Arrays:\n",
    "\n",
    "#From the second element, slice elements from index 1 to index 4 (not included):\n",
    "\n",
    "arr = np.array([[1, 2, 3, 4, 5], [6, 7, 8, 9, 10]])\n",
    "print(arr[1, 1:4])"
   ]
  },
  {
   "cell_type": "code",
   "execution_count": 67,
   "id": "c84d059a-9ab8-4d75-b064-061607b3f2f6",
   "metadata": {},
   "outputs": [
    {
     "name": "stdout",
     "output_type": "stream",
     "text": [
      "[[6 4]\n",
      " [7 9]\n",
      " [2 6]]\n",
      "*******************\n",
      "[[1 5 6 4 5 3]\n",
      " [4 3 7 9 2 5]\n",
      " [4 1 2 6 3 1]]\n"
     ]
    }
   ],
   "source": [
    "arr = np.array([[1,5,6,4,5,3],[4,3,7,9,2,5],[4,1,2,6,3,1]])\n",
    "print(arr[0:3, 2:4])\n",
    "print(\"*******************\")\n",
    "print(arr[:,:])"
   ]
  },
  {
   "cell_type": "code",
   "execution_count": 68,
   "id": "2b296bea-056a-4089-84e3-6f5fc0079564",
   "metadata": {},
   "outputs": [
    {
     "name": "stdout",
     "output_type": "stream",
     "text": [
      "[4 9]\n",
      "[5 3 1]\n"
     ]
    }
   ],
   "source": [
    "arr = np.array([[1,5,6,4,5,3],[4,3,7,9,2,5],[4,1,2,6,3,1]])\n",
    "print(arr[0:2,3])\n",
    "print(arr[0:6,1])"
   ]
  },
  {
   "cell_type": "code",
   "execution_count": 69,
   "id": "8bca10ae-0c80-40bb-8547-483deca490ec",
   "metadata": {},
   "outputs": [
    {
     "name": "stdout",
     "output_type": "stream",
     "text": [
      "[6 2 2]\n"
     ]
    }
   ],
   "source": [
    "t = np.array([[2,4,6,2],[5,7,2,8],[9,4,2,4]])\n",
    "print(t[0:4,2])"
   ]
  },
  {
   "cell_type": "code",
   "execution_count": 70,
   "id": "43175576-b4e2-4c2a-9709-a8159e5bbbfc",
   "metadata": {},
   "outputs": [
    {
     "name": "stdout",
     "output_type": "stream",
     "text": [
      "[[4 5 6]\n",
      " [6 4 7]]\n",
      "**************\n",
      "[[[1 4 5 6 7 8]\n",
      "  [3 6 4 7 2 6]]\n",
      "\n",
      " [[3 7 6 8 4 5]\n",
      "  [4 6 2 4 9 3]]\n",
      "\n",
      " [[6 7 3 7 8 9]\n",
      "  [9 6 0 2 9 4]]]\n"
     ]
    }
   ],
   "source": [
    "#slicing 3D arrays:\n",
    "\n",
    "arr = np.array([[[1,2,3,4],[5,6,7,8]],\n",
    "                [[3,7,6,8,4,5],[10,20,30,40]],\n",
    "                [[6,7,3,7,8,9],[9,6,0,2,9,4]]])\n",
    "print(arr[0,0:4,1:4])\n",
    "print(\"**************\")\n",
    "print(arr[:,:,:])"
   ]
  },
  {
   "cell_type": "code",
   "execution_count": null,
   "id": "922f7830-0c35-4b67-955f-ae709cd696a3",
   "metadata": {},
   "outputs": [],
   "source": []
  }
 ],
 "metadata": {
  "kernelspec": {
   "display_name": "Python 3 (ipykernel)",
   "language": "python",
   "name": "python3"
  },
  "language_info": {
   "codemirror_mode": {
    "name": "ipython",
    "version": 3
   },
   "file_extension": ".py",
   "mimetype": "text/x-python",
   "name": "python",
   "nbconvert_exporter": "python",
   "pygments_lexer": "ipython3",
   "version": "3.12.4"
  }
 },
 "nbformat": 4,
 "nbformat_minor": 5
}
