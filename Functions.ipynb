{
 "cells": [
  {
   "cell_type": "code",
   "execution_count": 1,
   "id": "b608433f-f534-4f3c-b9a3-da10b7911e08",
   "metadata": {},
   "outputs": [
    {
     "name": "stdout",
     "output_type": "stream",
     "text": [
      "Hello,ravi\n"
     ]
    }
   ],
   "source": [
    "#python functions\n",
    "#a function is a block of code that performs a specifi task\n",
    "\n",
    "#types of functions\n",
    "#1.standard library functions:also called as inbuilt funcyions like print(), input(), def()\n",
    "#2.user defined functions\n",
    "\n",
    "#syntax:\n",
    "#def function_name(arguments):\n",
    "#    return\n",
    "\n",
    "#calling a function \n",
    "def greet(name):\n",
    "    print(f\"Hello,{name}\")\n",
    "greet(\"ravi\") #function_name(parameter)\n"
   ]
  },
  {
   "cell_type": "code",
   "execution_count": 15,
   "id": "1f680f45-037e-45f1-afcc-feafd8969185",
   "metadata": {},
   "outputs": [
    {
     "name": "stdout",
     "output_type": "stream",
     "text": [
      "sum: 36\n",
      "sum: 30\n",
      "sum: 310\n"
     ]
    }
   ],
   "source": [
    "\n",
    "#python function Arguments and return statement\n",
    "def add_numbers(num1,num2): #a,b= num1, num2\n",
    "    sum=num1+num2 #a+b=c sum\n",
    "    print(\"sum:\", sum)\n",
    "\n",
    "#function call with two values\n",
    "add_numbers(12,24)\n",
    "add_numbers(10,20)\n",
    "add_numbers(100,210)\n",
    "\n"
   ]
  },
  {
   "cell_type": "code",
   "execution_count": 16,
   "id": "2a663ea5-f876-4adb-883b-cd679f08fb32",
   "metadata": {},
   "outputs": [
    {
     "name": "stdout",
     "output_type": "stream",
     "text": [
      "Even number\n",
      "Odd number\n",
      "Even number\n"
     ]
    }
   ],
   "source": [
    "#1.even or odd with functions\n",
    "def even_or_odd(n):\n",
    "    if n%2==0:\n",
    "        print(\"Even number\")\n",
    "    else:\n",
    "        print(\"Odd number\")\n",
    "\n",
    "even_or_odd(10)\n",
    "even_or_odd(127)\n",
    "even_or_odd(456)"
   ]
  },
  {
   "cell_type": "code",
   "execution_count": 18,
   "id": "79b7817e-d3bb-4a5b-94c0-a76c8bd342f4",
   "metadata": {},
   "outputs": [
    {
     "name": "stdout",
     "output_type": "stream",
     "text": [
      "789\n",
      "225\n"
     ]
    }
   ],
   "source": [
    "#2.largest among three numbers with functions\n",
    "def largest(a,b,c):\n",
    "    if a>b and a>c:\n",
    "        print(a) #prints \"a\" if 'a' is largest number among the three numbers\n",
    "    elif  b>c:\n",
    "        print(b)  #prints \"b\" if 'b' is largest number among the three numbers\n",
    "    else:\n",
    "        print(c)  #prints \"c\" if 'c' is largest number among the three numbers\n",
    "\n",
    "maxi(123,789,521)\n",
    "maxi(-100,225,50.1)"
   ]
  },
  {
   "cell_type": "code",
   "execution_count": 23,
   "id": "052d7642-52ee-424b-b03b-ce64c164dfde",
   "metadata": {},
   "outputs": [
    {
     "name": "stdout",
     "output_type": "stream",
     "text": [
      "123\n",
      "1.23\n"
     ]
    }
   ],
   "source": [
    "#3.small among three numbers with functions\n",
    "def small(a,b,c):\n",
    "    if a<b and a<c:\n",
    "        print(a)\n",
    "    elif  b<c:\n",
    "        print(b)\n",
    "    else:\n",
    "        print(c)\n",
    "\n",
    "small(741,520,123)\n",
    "small(1.23,147,258)"
   ]
  },
  {
   "cell_type": "code",
   "execution_count": 25,
   "id": "1ac073b2-36a6-4d91-8c2c-3ee31b0836cd",
   "metadata": {},
   "outputs": [
    {
     "name": "stdout",
     "output_type": "stream",
     "text": [
      "grade A\n",
      "grade B\n",
      "grade C\n",
      "grade D\n",
      "grade F\n",
      "grade F\n"
     ]
    }
   ],
   "source": [
    "#4.grading system with function:\n",
    "def grade_of(m):\n",
    "    if m>=91 and m<=100:\n",
    "        print(\"grade A\")\n",
    "    elif m>=81 and m<=90:\n",
    "        print(\"grade B\")\n",
    "    elif m>=71 and m<=80:\n",
    "        print(\"grade C\")\n",
    "    elif m>=61 and m<=70:\n",
    "        print(\"grade D\")\n",
    "    elif m>=51 and m<=60:\n",
    "        print(\"grade E\")\n",
    "    else:\n",
    "        print(\"grade F\")\n",
    "\n",
    "grade_of(98)\n",
    "grade_of(85)\n",
    "grade_of(78)\n",
    "grade_of(62)\n",
    "grade_of(50)\n",
    "grade_of(35)"
   ]
  },
  {
   "cell_type": "code",
   "execution_count": null,
   "id": "3d68ea6c-d9e0-4ed0-8540-e19a63c7e64e",
   "metadata": {},
   "outputs": [],
   "source": []
  }
 ],
 "metadata": {
  "kernelspec": {
   "display_name": "Python 3 (ipykernel)",
   "language": "python",
   "name": "python3"
  },
  "language_info": {
   "codemirror_mode": {
    "name": "ipython",
    "version": 3
   },
   "file_extension": ".py",
   "mimetype": "text/x-python",
   "name": "python",
   "nbconvert_exporter": "python",
   "pygments_lexer": "ipython3",
   "version": "3.12.4"
  }
 },
 "nbformat": 4,
 "nbformat_minor": 5
}
