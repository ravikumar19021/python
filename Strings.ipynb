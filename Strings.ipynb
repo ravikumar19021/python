{
 "cells": [
  {
   "cell_type": "code",
   "execution_count": 2,
   "id": "8d8f2653-6cb5-475f-bbf1-d588bb0710b1",
   "metadata": {},
   "outputs": [
    {
     "name": "stdout",
     "output_type": "stream",
     "text": [
      "25\n"
     ]
    }
   ],
   "source": [
    "#Strings:\n",
    "#length():\n",
    "\n",
    "name= \"May the Force be with you\"\n",
    "A=len(name)\n",
    "print(A)\n"
   ]
  },
  {
   "cell_type": "code",
   "execution_count": 5,
   "id": "bfdf2b1d-e19f-4428-8269-a3c5e6fc4ad0",
   "metadata": {},
   "outputs": [
    {
     "name": "stdout",
     "output_type": "stream",
     "text": [
      "MAY THE FORCE BE WITH YOU\n",
      "may the force be with you\n"
     ]
    }
   ],
   "source": [
    "#Lower case() and Upper case ():\n",
    "\n",
    "a= \"May the Force be with you\"\n",
    "b=a.upper()\n",
    "print(b)\n",
    "\n",
    "c=a.lower()\n",
    "print(c)\n"
   ]
  },
  {
   "cell_type": "code",
   "execution_count": 14,
   "id": "170e4c8a-9a54-41d6-a0a5-5cce87efe4c4",
   "metadata": {},
   "outputs": [
    {
     "name": "stdout",
     "output_type": "stream",
     "text": [
      "       May the Force be with you     \n"
     ]
    },
    {
     "data": {
      "text/plain": [
       "'May the Force be with you'"
      ]
     },
     "execution_count": 14,
     "metadata": {},
     "output_type": "execute_result"
    }
   ],
   "source": [
    "#strip(): removes white spaces from starting and ending\n",
    "\n",
    "star_wars = \"       May the Force be with you     \"\n",
    "A=star_wars.strip()\n",
    "\n",
    "print(star_wars)\n",
    "A\n",
    "\n",
    "\n"
   ]
  },
  {
   "cell_type": "code",
   "execution_count": 17,
   "id": "d4f7a626-8877-427c-bcfd-ff54d0057478",
   "metadata": {},
   "outputs": [
    {
     "name": "stdout",
     "output_type": "stream",
     "text": [
      "mac is good\n"
     ]
    },
    {
     "data": {
      "text/plain": [
       "'windows is good'"
      ]
     },
     "execution_count": 17,
     "metadata": {},
     "output_type": "execute_result"
    }
   ],
   "source": [
    "#Replace():\n",
    "\n",
    "computer=\"mac is good\"\n",
    "A=computer.replace(\"mac\",\"windows\") #(old values, new value)\n",
    "\n",
    "print(computer)\n",
    "\n",
    "A\n",
    "\n"
   ]
  },
  {
   "cell_type": "code",
   "execution_count": 20,
   "id": "b9929033-937d-40d5-b047-e13fbb54a0db",
   "metadata": {},
   "outputs": [
    {
     "data": {
      "text/plain": [
       "['May', 'the', 'Force', 'be', 'with', 'you']"
      ]
     },
     "execution_count": 20,
     "metadata": {},
     "output_type": "execute_result"
    }
   ],
   "source": [
    "#splits(): splits where there is space in strings\n",
    "\n",
    "star_wars = \"May the Force be with you\"\n",
    "A= star_wars.split()\n",
    "A\n"
   ]
  },
  {
   "cell_type": "code",
   "execution_count": 28,
   "id": "6aa3cbf8-e9aa-4678-a311-8dd90e86367c",
   "metadata": {},
   "outputs": [
    {
     "data": {
      "text/plain": [
       "'May the Force be with you'"
      ]
     },
     "execution_count": 28,
     "metadata": {},
     "output_type": "execute_result"
    }
   ],
   "source": [
    "#joins(): input is list and output is string\n",
    "\n",
    "A= ['May', 'the', 'Force', 'be', 'with', 'you']\n",
    "B=' '.join(A)\n",
    "\n",
    "\n",
    "B\n"
   ]
  },
  {
   "cell_type": "code",
   "execution_count": 36,
   "id": "65773f8a-ce50-4b36-a24f-50a894e5df36",
   "metadata": {},
   "outputs": [
    {
     "name": "stdout",
     "output_type": "stream",
     "text": [
      "My name is ravi\n"
     ]
    }
   ],
   "source": [
    "#capitalize():\tConverts the first character to upper case\n",
    "\n",
    "name = \"my name is ravi\"\n",
    "\n",
    "x = name.capitalize()\n",
    "\n",
    "print (x)\n"
   ]
  },
  {
   "cell_type": "code",
   "execution_count": 39,
   "id": "2018f9b6-71a4-49c5-8477-903d120a3c02",
   "metadata": {},
   "outputs": [
    {
     "data": {
      "text/plain": [
       "'my name is ravi'"
      ]
     },
     "execution_count": 39,
     "metadata": {},
     "output_type": "execute_result"
    }
   ],
   "source": [
    "#casefold():\tConverts string into lower case\n",
    "\n",
    "a= \"My name is ravi\"\n",
    "b=a.casefold()\n",
    "b"
   ]
  },
  {
   "cell_type": "code",
   "execution_count": 40,
   "id": "7dcd71bd-1cc8-472b-b4ab-194d4a364156",
   "metadata": {},
   "outputs": [
    {
     "data": {
      "text/plain": [
       "'   ravi   '"
      ]
     },
     "execution_count": 40,
     "metadata": {},
     "output_type": "execute_result"
    }
   ],
   "source": [
    "#center():\tReturns a centered string\n",
    "\n",
    "name= \"ravi\"\n",
    "A=name.center(10)\n",
    "A\n"
   ]
  },
  {
   "cell_type": "code",
   "execution_count": 42,
   "id": "786ddd76-4b3b-46a9-a988-473af307f412",
   "metadata": {},
   "outputs": [
    {
     "data": {
      "text/plain": [
       "2"
      ]
     },
     "execution_count": 42,
     "metadata": {},
     "output_type": "execute_result"
    }
   ],
   "source": [
    "#count():\tReturns the number of times a specified value occurs in a string\n",
    "\n",
    "A= \"my name is ravi. ravi is a good boy\"\n",
    "b=A.count(\"ravi\")\n",
    "b\n"
   ]
  },
  {
   "cell_type": "code",
   "execution_count": 44,
   "id": "eb493154-4ac6-4d46-a18d-c88671c59361",
   "metadata": {},
   "outputs": [
    {
     "data": {
      "text/plain": [
       "b'my name is ravi'"
      ]
     },
     "execution_count": 44,
     "metadata": {},
     "output_type": "execute_result"
    }
   ],
   "source": [
    "#encode():\tReturns an encoded version of the string\n",
    "\n",
    "name= \"my name is ravi\"\n",
    "A=name.encode()\n",
    "\n",
    "\n",
    "A\n"
   ]
  },
  {
   "cell_type": "code",
   "execution_count": 46,
   "id": "3d28c480-42ee-4a1b-85f4-02feb7cfe899",
   "metadata": {},
   "outputs": [
    {
     "data": {
      "text/plain": [
       "True"
      ]
     },
     "execution_count": 46,
     "metadata": {},
     "output_type": "execute_result"
    }
   ],
   "source": [
    "#endswith():\tReturns true if the string ends with the specified value\n",
    "\n",
    "name= \"my name is ravi.\"\n",
    "B=name.endswith(\".\")\n",
    "\n",
    "B\n"
   ]
  },
  {
   "cell_type": "code",
   "execution_count": 56,
   "id": "b822b936-a281-4082-b11d-c46a1060ac53",
   "metadata": {},
   "outputs": [
    {
     "data": {
      "text/plain": [
       "'my        name      is        ravi.'"
      ]
     },
     "execution_count": 56,
     "metadata": {},
     "output_type": "execute_result"
    }
   ],
   "source": [
    "#expandtabs():\tSets the tab size of the string\n",
    "name= \"my\\tname\\tis\\travi.\"\n",
    "A=name.expandtabs(10)\n",
    "A\n"
   ]
  },
  {
   "cell_type": "code",
   "execution_count": 57,
   "id": "3e42fbdf-f205-4c32-9177-79ec0a570560",
   "metadata": {},
   "outputs": [
    {
     "data": {
      "text/plain": [
       "15"
      ]
     },
     "execution_count": 57,
     "metadata": {},
     "output_type": "execute_result"
    }
   ],
   "source": [
    "#find():\tSearches the string for a specified value and returns the position of where it was found\n",
    "\n",
    "a= \"hello, my name is ravi\"\n",
    "b=a.find(\"is\")\n",
    "b\n"
   ]
  },
  {
   "cell_type": "code",
   "execution_count": 60,
   "id": "f15db3d3-642a-40f0-b1ca-f0e18af72d51",
   "metadata": {},
   "outputs": [
    {
     "data": {
      "text/plain": [
       "'hello, my age is 20'"
      ]
     },
     "execution_count": 60,
     "metadata": {},
     "output_type": "execute_result"
    }
   ],
   "source": [
    "#format():\tFormats specified values in a string\n",
    "\n",
    "a= \"hello, my age is {b}\"\n",
    "B=a.format(b=20)\n",
    "B"
   ]
  },
  {
   "cell_type": "code",
   "execution_count": 61,
   "id": "11f1e5a8-3ebe-45f0-a835-487dbd4587fb",
   "metadata": {},
   "outputs": [
    {
     "data": {
      "text/plain": [
       "8"
      ]
     },
     "execution_count": 61,
     "metadata": {},
     "output_type": "execute_result"
    }
   ],
   "source": [
    "#index():\tSearches the string for a specified value and returns the position of where it was found\n",
    "\n",
    "name= \"my name is ravi\"\n",
    "a=name.index(\"is\")\n",
    "a\n"
   ]
  },
  {
   "cell_type": "code",
   "execution_count": 66,
   "id": "f5a237ac-4796-4343-ac78-b2617075fb3e",
   "metadata": {},
   "outputs": [
    {
     "data": {
      "text/plain": [
       "False"
      ]
     },
     "execution_count": 66,
     "metadata": {},
     "output_type": "execute_result"
    }
   ],
   "source": [
    "#isalnum():\tReturns True if all characters in the string are alphanumeric\n",
    "\n",
    "age= \" my age is 20\"\n",
    "a=age.isalnum()\n",
    "a\n",
    "\n"
   ]
  },
  {
   "cell_type": "code",
   "execution_count": 69,
   "id": "06f1030b-b7a4-4eb2-8bcb-e4a0c0a6788a",
   "metadata": {},
   "outputs": [
    {
     "data": {
      "text/plain": [
       "False"
      ]
     },
     "execution_count": 69,
     "metadata": {},
     "output_type": "execute_result"
    }
   ],
   "source": [
    "#isalpha():\tReturns True if all characters in the string are in the alphabet\n",
    "\n",
    "name= \"my name is ravi\"\n",
    "a=name.isalpha()\n",
    "a"
   ]
  },
  {
   "cell_type": "code",
   "execution_count": 71,
   "id": "1434a61b-e2e5-47fe-b061-014f672b423f",
   "metadata": {},
   "outputs": [
    {
     "data": {
      "text/plain": [
       "True"
      ]
     },
     "execution_count": 71,
     "metadata": {},
     "output_type": "execute_result"
    }
   ],
   "source": [
    "#isascii():\tReturns True if all characters in the string are ascii characters\n",
    "\n",
    "user_name=\"ravi19\"\n",
    "a=user_name.isascii()\n",
    "a"
   ]
  },
  {
   "cell_type": "code",
   "execution_count": 72,
   "id": "14447e30-5e0d-4786-94f0-ac2c81d13476",
   "metadata": {},
   "outputs": [
    {
     "data": {
      "text/plain": [
       "False"
      ]
     },
     "execution_count": 72,
     "metadata": {},
     "output_type": "execute_result"
    }
   ],
   "source": [
    "#isdecimal():\tReturns True if all characters in the string are decimals\n",
    "\n",
    "username=\"ravi19\"\n",
    "a=username.isdecimal()\n",
    "a"
   ]
  },
  {
   "cell_type": "code",
   "execution_count": 73,
   "id": "aa330e7c-2a25-4f64-a7e1-77130fb11e24",
   "metadata": {},
   "outputs": [
    {
     "data": {
      "text/plain": [
       "True"
      ]
     },
     "execution_count": 73,
     "metadata": {},
     "output_type": "execute_result"
    }
   ],
   "source": [
    "#isdigit():\tReturns True if all characters in the string are digits\n",
    "\n",
    "phone_num=\"123456\"\n",
    "a=phone_num.isdigit()\n",
    "a"
   ]
  },
  {
   "cell_type": "code",
   "execution_count": 76,
   "id": "731525cc-7765-4734-9b85-5f5ffc4acb16",
   "metadata": {},
   "outputs": [
    {
     "data": {
      "text/plain": [
       "True"
      ]
     },
     "execution_count": 76,
     "metadata": {},
     "output_type": "execute_result"
    }
   ],
   "source": [
    "#isidentifier():\tReturns True if the string is an identifier\n",
    "\n",
    "number=\"two\"\n",
    "a=number.isidentifier()\n",
    "a"
   ]
  },
  {
   "cell_type": "code",
   "execution_count": 77,
   "id": "870261f9-588a-4ed2-8d69-9e63590928f1",
   "metadata": {},
   "outputs": [
    {
     "data": {
      "text/plain": [
       "True"
      ]
     },
     "execution_count": 77,
     "metadata": {},
     "output_type": "execute_result"
    }
   ],
   "source": [
    "#islower():\tReturns True if all characters in the string are lower case\n",
    "\n",
    "name=\"my name is ravi\"\n",
    "a=name.islower()\n",
    "a\n"
   ]
  },
  {
   "cell_type": "code",
   "execution_count": 78,
   "id": "484a6b4d-d15f-46d0-bbc1-f0e448d4166c",
   "metadata": {},
   "outputs": [
    {
     "data": {
      "text/plain": [
       "True"
      ]
     },
     "execution_count": 78,
     "metadata": {},
     "output_type": "execute_result"
    }
   ],
   "source": [
    "#isnumeric():\tReturns True if all characters in the string are numeric\n",
    "\n",
    "phone_num=\"123456\"\n",
    "a=phone_num.isnumeric()\n"
   ]
  },
  {
   "cell_type": "code",
   "execution_count": 80,
   "id": "d619c509-c5d1-43ab-97d9-c8cebba282bd",
   "metadata": {},
   "outputs": [
    {
     "data": {
      "text/plain": [
       "True"
      ]
     },
     "execution_count": 80,
     "metadata": {},
     "output_type": "execute_result"
    }
   ],
   "source": [
    "#isprintable():\tReturns True if all characters in the string are printable\n",
    "a=\"hello, my name is ravi\"\n",
    "b=a.isprintable()\n",
    "b\n"
   ]
  },
  {
   "cell_type": "code",
   "execution_count": 84,
   "id": "b8e91b37-bb46-48a7-bdaa-6933b84c9e97",
   "metadata": {},
   "outputs": [
    {
     "data": {
      "text/plain": [
       "True"
      ]
     },
     "execution_count": 84,
     "metadata": {},
     "output_type": "execute_result"
    }
   ],
   "source": [
    "#isspace():\tReturns True if all characters in the string are whitespaces\n",
    "\n",
    "a=\"   \"\n",
    "b=a.isspace()\n",
    "b\n"
   ]
  },
  {
   "cell_type": "code",
   "execution_count": 86,
   "id": "1d5afb8d-a763-4e8f-8dcc-c3b181d36504",
   "metadata": {},
   "outputs": [
    {
     "data": {
      "text/plain": [
       "False"
      ]
     },
     "execution_count": 86,
     "metadata": {},
     "output_type": "execute_result"
    }
   ],
   "source": [
    "#istitle():\tReturns True if the string follows the rules of a title\n",
    "\n",
    "a=\"Hello, My name Is Ravi\"\n",
    "b=a.istitle()\n",
    "b"
   ]
  },
  {
   "cell_type": "code",
   "execution_count": 88,
   "id": "a9dfd926-9fde-4fb5-8839-ae35efab94e0",
   "metadata": {},
   "outputs": [
    {
     "data": {
      "text/plain": [
       "False"
      ]
     },
     "execution_count": 88,
     "metadata": {},
     "output_type": "execute_result"
    }
   ],
   "source": [
    "#isupper():\tReturns True if all characters in the string are upper case\n",
    "\n",
    "a=\"Hello, My name Is Ravi\"\n",
    "b=a.isupper()\n",
    "b\n"
   ]
  },
  {
   "cell_type": "code",
   "execution_count": 96,
   "id": "6006096d-2943-4017-b23b-853ac82d6ef4",
   "metadata": {},
   "outputs": [
    {
     "name": "stdout",
     "output_type": "stream",
     "text": [
      "Hello, My name Is Savi\n"
     ]
    }
   ],
   "source": [
    "#maketrans():\tReturns a translation table to be used in translations\n",
    "\n",
    "a=\"Hello, My name Is Ravi\"\n",
    "b=str.maketrans(\"R\",\"S\")\n",
    "print(a.translate(b))\n"
   ]
  },
  {
   "cell_type": "code",
   "execution_count": 1,
   "id": "c8665efa-7744-4e2d-a604-5ca33d0391f8",
   "metadata": {},
   "outputs": [
    {
     "data": {
      "text/plain": [
       "(' my ', 'name', ' is ravi')"
      ]
     },
     "execution_count": 1,
     "metadata": {},
     "output_type": "execute_result"
    }
   ],
   "source": [
    "#partition():\tReturns a tuple where the string is parted into three parts\n",
    "\n",
    "a= \" my name is ravi\"\n",
    "b= a.partition(\"name\")\n",
    "b\n"
   ]
  },
  {
   "cell_type": "code",
   "execution_count": null,
   "id": "5ad2456e-84b2-4dcd-a3ed-9e61e6f4f0d5",
   "metadata": {},
   "outputs": [],
   "source": []
  }
 ],
 "metadata": {
  "kernelspec": {
   "display_name": "Python 3 (ipykernel)",
   "language": "python",
   "name": "python3"
  },
  "language_info": {
   "codemirror_mode": {
    "name": "ipython",
    "version": 3
   },
   "file_extension": ".py",
   "mimetype": "text/x-python",
   "name": "python",
   "nbconvert_exporter": "python",
   "pygments_lexer": "ipython3",
   "version": "3.12.4"
  }
 },
 "nbformat": 4,
 "nbformat_minor": 5
}
